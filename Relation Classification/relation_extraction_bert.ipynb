{
 "nbformat": 4,
 "nbformat_minor": 0,
 "metadata": {
  "accelerator": "GPU",
  "colab": {
   "name": "relation_extraction_bert_cs5984_hw2.ipynb",
   "provenance": [],
   "collapsed_sections": []
  },
  "kernelspec": {
   "display_name": "Python 3",
   "language": "python",
   "name": "python3"
  },
  "language_info": {
   "name": "python"
  },
  "widgets": {
   "application/vnd.jupyter.widget-state+json": {
    "3166cb906b8b4162b3f1961c58d51219": {
     "model_module": "@jupyter-widgets/controls",
     "model_name": "HBoxModel",
     "model_module_version": "1.5.0",
     "state": {
      "_view_name": "HBoxView",
      "_dom_classes": [],
      "_model_name": "HBoxModel",
      "_view_module": "@jupyter-widgets/controls",
      "_model_module_version": "1.5.0",
      "_view_count": null,
      "_view_module_version": "1.5.0",
      "box_style": "",
      "layout": "IPY_MODEL_92f2e7d698a94848a538d62985159773",
      "_model_module": "@jupyter-widgets/controls",
      "children": [
       "IPY_MODEL_9ce03ee085394365b437864146a02777",
       "IPY_MODEL_af532c0ce80642188d2b3b4cfbad88ab",
       "IPY_MODEL_19f33602c8c44f6bbf5a62b847a3adcc"
      ]
     }
    },
    "92f2e7d698a94848a538d62985159773": {
     "model_module": "@jupyter-widgets/base",
     "model_name": "LayoutModel",
     "model_module_version": "1.2.0",
     "state": {
      "_view_name": "LayoutView",
      "grid_template_rows": null,
      "right": null,
      "justify_content": null,
      "_view_module": "@jupyter-widgets/base",
      "overflow": null,
      "_model_module_version": "1.2.0",
      "_view_count": null,
      "flex_flow": null,
      "width": null,
      "min_width": null,
      "border": null,
      "align_items": null,
      "bottom": null,
      "_model_module": "@jupyter-widgets/base",
      "top": null,
      "grid_column": null,
      "overflow_y": null,
      "overflow_x": null,
      "grid_auto_flow": null,
      "grid_area": null,
      "grid_template_columns": null,
      "flex": null,
      "_model_name": "LayoutModel",
      "justify_items": null,
      "grid_row": null,
      "max_height": null,
      "align_content": null,
      "visibility": null,
      "align_self": null,
      "height": null,
      "min_height": null,
      "padding": null,
      "grid_auto_rows": null,
      "grid_gap": null,
      "max_width": null,
      "order": null,
      "_view_module_version": "1.2.0",
      "grid_template_areas": null,
      "object_position": null,
      "object_fit": null,
      "grid_auto_columns": null,
      "margin": null,
      "display": null,
      "left": null
     }
    },
    "9ce03ee085394365b437864146a02777": {
     "model_module": "@jupyter-widgets/controls",
     "model_name": "HTMLModel",
     "model_module_version": "1.5.0",
     "state": {
      "_view_name": "HTMLView",
      "style": "IPY_MODEL_e80131dcc2b542a69f5d6386ef0bf1de",
      "_dom_classes": [],
      "description": "",
      "_model_name": "HTMLModel",
      "placeholder": "​",
      "_view_module": "@jupyter-widgets/controls",
      "_model_module_version": "1.5.0",
      "value": "Downloading: 100%",
      "_view_count": null,
      "_view_module_version": "1.5.0",
      "description_tooltip": null,
      "_model_module": "@jupyter-widgets/controls",
      "layout": "IPY_MODEL_c2fcd4b4aa7a4e098cdd2aa3c7b7f27b"
     }
    },
    "af532c0ce80642188d2b3b4cfbad88ab": {
     "model_module": "@jupyter-widgets/controls",
     "model_name": "FloatProgressModel",
     "model_module_version": "1.5.0",
     "state": {
      "_view_name": "ProgressView",
      "style": "IPY_MODEL_15f00e1f98164233836e73141f7f288c",
      "_dom_classes": [],
      "description": "",
      "_model_name": "FloatProgressModel",
      "bar_style": "success",
      "max": 231508,
      "_view_module": "@jupyter-widgets/controls",
      "_model_module_version": "1.5.0",
      "value": 231508,
      "_view_count": null,
      "_view_module_version": "1.5.0",
      "orientation": "horizontal",
      "min": 0,
      "description_tooltip": null,
      "_model_module": "@jupyter-widgets/controls",
      "layout": "IPY_MODEL_af9670328e9f4ba4ac99e4f1b80a77cb"
     }
    },
    "19f33602c8c44f6bbf5a62b847a3adcc": {
     "model_module": "@jupyter-widgets/controls",
     "model_name": "HTMLModel",
     "model_module_version": "1.5.0",
     "state": {
      "_view_name": "HTMLView",
      "style": "IPY_MODEL_cfa91e1da1544321ac34444b9376b4fe",
      "_dom_classes": [],
      "description": "",
      "_model_name": "HTMLModel",
      "placeholder": "​",
      "_view_module": "@jupyter-widgets/controls",
      "_model_module_version": "1.5.0",
      "value": " 226k/226k [00:00&lt;00:00, 985kB/s]",
      "_view_count": null,
      "_view_module_version": "1.5.0",
      "description_tooltip": null,
      "_model_module": "@jupyter-widgets/controls",
      "layout": "IPY_MODEL_963d4c0381e644bdad160403dfa7b4cb"
     }
    },
    "e80131dcc2b542a69f5d6386ef0bf1de": {
     "model_module": "@jupyter-widgets/controls",
     "model_name": "DescriptionStyleModel",
     "model_module_version": "1.5.0",
     "state": {
      "_view_name": "StyleView",
      "_model_name": "DescriptionStyleModel",
      "description_width": "",
      "_view_module": "@jupyter-widgets/base",
      "_model_module_version": "1.5.0",
      "_view_count": null,
      "_view_module_version": "1.2.0",
      "_model_module": "@jupyter-widgets/controls"
     }
    },
    "c2fcd4b4aa7a4e098cdd2aa3c7b7f27b": {
     "model_module": "@jupyter-widgets/base",
     "model_name": "LayoutModel",
     "model_module_version": "1.2.0",
     "state": {
      "_view_name": "LayoutView",
      "grid_template_rows": null,
      "right": null,
      "justify_content": null,
      "_view_module": "@jupyter-widgets/base",
      "overflow": null,
      "_model_module_version": "1.2.0",
      "_view_count": null,
      "flex_flow": null,
      "width": null,
      "min_width": null,
      "border": null,
      "align_items": null,
      "bottom": null,
      "_model_module": "@jupyter-widgets/base",
      "top": null,
      "grid_column": null,
      "overflow_y": null,
      "overflow_x": null,
      "grid_auto_flow": null,
      "grid_area": null,
      "grid_template_columns": null,
      "flex": null,
      "_model_name": "LayoutModel",
      "justify_items": null,
      "grid_row": null,
      "max_height": null,
      "align_content": null,
      "visibility": null,
      "align_self": null,
      "height": null,
      "min_height": null,
      "padding": null,
      "grid_auto_rows": null,
      "grid_gap": null,
      "max_width": null,
      "order": null,
      "_view_module_version": "1.2.0",
      "grid_template_areas": null,
      "object_position": null,
      "object_fit": null,
      "grid_auto_columns": null,
      "margin": null,
      "display": null,
      "left": null
     }
    },
    "15f00e1f98164233836e73141f7f288c": {
     "model_module": "@jupyter-widgets/controls",
     "model_name": "ProgressStyleModel",
     "model_module_version": "1.5.0",
     "state": {
      "_view_name": "StyleView",
      "_model_name": "ProgressStyleModel",
      "description_width": "",
      "_view_module": "@jupyter-widgets/base",
      "_model_module_version": "1.5.0",
      "_view_count": null,
      "_view_module_version": "1.2.0",
      "bar_color": null,
      "_model_module": "@jupyter-widgets/controls"
     }
    },
    "af9670328e9f4ba4ac99e4f1b80a77cb": {
     "model_module": "@jupyter-widgets/base",
     "model_name": "LayoutModel",
     "model_module_version": "1.2.0",
     "state": {
      "_view_name": "LayoutView",
      "grid_template_rows": null,
      "right": null,
      "justify_content": null,
      "_view_module": "@jupyter-widgets/base",
      "overflow": null,
      "_model_module_version": "1.2.0",
      "_view_count": null,
      "flex_flow": null,
      "width": null,
      "min_width": null,
      "border": null,
      "align_items": null,
      "bottom": null,
      "_model_module": "@jupyter-widgets/base",
      "top": null,
      "grid_column": null,
      "overflow_y": null,
      "overflow_x": null,
      "grid_auto_flow": null,
      "grid_area": null,
      "grid_template_columns": null,
      "flex": null,
      "_model_name": "LayoutModel",
      "justify_items": null,
      "grid_row": null,
      "max_height": null,
      "align_content": null,
      "visibility": null,
      "align_self": null,
      "height": null,
      "min_height": null,
      "padding": null,
      "grid_auto_rows": null,
      "grid_gap": null,
      "max_width": null,
      "order": null,
      "_view_module_version": "1.2.0",
      "grid_template_areas": null,
      "object_position": null,
      "object_fit": null,
      "grid_auto_columns": null,
      "margin": null,
      "display": null,
      "left": null
     }
    },
    "cfa91e1da1544321ac34444b9376b4fe": {
     "model_module": "@jupyter-widgets/controls",
     "model_name": "DescriptionStyleModel",
     "model_module_version": "1.5.0",
     "state": {
      "_view_name": "StyleView",
      "_model_name": "DescriptionStyleModel",
      "description_width": "",
      "_view_module": "@jupyter-widgets/base",
      "_model_module_version": "1.5.0",
      "_view_count": null,
      "_view_module_version": "1.2.0",
      "_model_module": "@jupyter-widgets/controls"
     }
    },
    "963d4c0381e644bdad160403dfa7b4cb": {
     "model_module": "@jupyter-widgets/base",
     "model_name": "LayoutModel",
     "model_module_version": "1.2.0",
     "state": {
      "_view_name": "LayoutView",
      "grid_template_rows": null,
      "right": null,
      "justify_content": null,
      "_view_module": "@jupyter-widgets/base",
      "overflow": null,
      "_model_module_version": "1.2.0",
      "_view_count": null,
      "flex_flow": null,
      "width": null,
      "min_width": null,
      "border": null,
      "align_items": null,
      "bottom": null,
      "_model_module": "@jupyter-widgets/base",
      "top": null,
      "grid_column": null,
      "overflow_y": null,
      "overflow_x": null,
      "grid_auto_flow": null,
      "grid_area": null,
      "grid_template_columns": null,
      "flex": null,
      "_model_name": "LayoutModel",
      "justify_items": null,
      "grid_row": null,
      "max_height": null,
      "align_content": null,
      "visibility": null,
      "align_self": null,
      "height": null,
      "min_height": null,
      "padding": null,
      "grid_auto_rows": null,
      "grid_gap": null,
      "max_width": null,
      "order": null,
      "_view_module_version": "1.2.0",
      "grid_template_areas": null,
      "object_position": null,
      "object_fit": null,
      "grid_auto_columns": null,
      "margin": null,
      "display": null,
      "left": null
     }
    },
    "669474f7725146de93c953934d5eff16": {
     "model_module": "@jupyter-widgets/controls",
     "model_name": "HBoxModel",
     "model_module_version": "1.5.0",
     "state": {
      "_view_name": "HBoxView",
      "_dom_classes": [],
      "_model_name": "HBoxModel",
      "_view_module": "@jupyter-widgets/controls",
      "_model_module_version": "1.5.0",
      "_view_count": null,
      "_view_module_version": "1.5.0",
      "box_style": "",
      "layout": "IPY_MODEL_8678ea682b674f1596faafb092555cf0",
      "_model_module": "@jupyter-widgets/controls",
      "children": [
       "IPY_MODEL_67de9db7549e453290f45c0878b5c613",
       "IPY_MODEL_7661b18f80b04ee1b12f72a65540edc7",
       "IPY_MODEL_14b6c4b32c2642a88fb9fdf0ac867dad"
      ]
     }
    },
    "8678ea682b674f1596faafb092555cf0": {
     "model_module": "@jupyter-widgets/base",
     "model_name": "LayoutModel",
     "model_module_version": "1.2.0",
     "state": {
      "_view_name": "LayoutView",
      "grid_template_rows": null,
      "right": null,
      "justify_content": null,
      "_view_module": "@jupyter-widgets/base",
      "overflow": null,
      "_model_module_version": "1.2.0",
      "_view_count": null,
      "flex_flow": null,
      "width": null,
      "min_width": null,
      "border": null,
      "align_items": null,
      "bottom": null,
      "_model_module": "@jupyter-widgets/base",
      "top": null,
      "grid_column": null,
      "overflow_y": null,
      "overflow_x": null,
      "grid_auto_flow": null,
      "grid_area": null,
      "grid_template_columns": null,
      "flex": null,
      "_model_name": "LayoutModel",
      "justify_items": null,
      "grid_row": null,
      "max_height": null,
      "align_content": null,
      "visibility": null,
      "align_self": null,
      "height": null,
      "min_height": null,
      "padding": null,
      "grid_auto_rows": null,
      "grid_gap": null,
      "max_width": null,
      "order": null,
      "_view_module_version": "1.2.0",
      "grid_template_areas": null,
      "object_position": null,
      "object_fit": null,
      "grid_auto_columns": null,
      "margin": null,
      "display": null,
      "left": null
     }
    },
    "67de9db7549e453290f45c0878b5c613": {
     "model_module": "@jupyter-widgets/controls",
     "model_name": "HTMLModel",
     "model_module_version": "1.5.0",
     "state": {
      "_view_name": "HTMLView",
      "style": "IPY_MODEL_7a61965a24604b8abd75d76a02844863",
      "_dom_classes": [],
      "description": "",
      "_model_name": "HTMLModel",
      "placeholder": "​",
      "_view_module": "@jupyter-widgets/controls",
      "_model_module_version": "1.5.0",
      "value": "Downloading: 100%",
      "_view_count": null,
      "_view_module_version": "1.5.0",
      "description_tooltip": null,
      "_model_module": "@jupyter-widgets/controls",
      "layout": "IPY_MODEL_8dbbfe7f89234435804bf45c6fc8ecba"
     }
    },
    "7661b18f80b04ee1b12f72a65540edc7": {
     "model_module": "@jupyter-widgets/controls",
     "model_name": "FloatProgressModel",
     "model_module_version": "1.5.0",
     "state": {
      "_view_name": "ProgressView",
      "style": "IPY_MODEL_2e7f40a2dfc44ef398c7159b87772637",
      "_dom_classes": [],
      "description": "",
      "_model_name": "FloatProgressModel",
      "bar_style": "success",
      "max": 28,
      "_view_module": "@jupyter-widgets/controls",
      "_model_module_version": "1.5.0",
      "value": 28,
      "_view_count": null,
      "_view_module_version": "1.5.0",
      "orientation": "horizontal",
      "min": 0,
      "description_tooltip": null,
      "_model_module": "@jupyter-widgets/controls",
      "layout": "IPY_MODEL_e7eb87e0113c4fd29176b352a056e809"
     }
    },
    "14b6c4b32c2642a88fb9fdf0ac867dad": {
     "model_module": "@jupyter-widgets/controls",
     "model_name": "HTMLModel",
     "model_module_version": "1.5.0",
     "state": {
      "_view_name": "HTMLView",
      "style": "IPY_MODEL_8ddc9304a07347e390ed1996569796d4",
      "_dom_classes": [],
      "description": "",
      "_model_name": "HTMLModel",
      "placeholder": "​",
      "_view_module": "@jupyter-widgets/controls",
      "_model_module_version": "1.5.0",
      "value": " 28.0/28.0 [00:00&lt;00:00, 607B/s]",
      "_view_count": null,
      "_view_module_version": "1.5.0",
      "description_tooltip": null,
      "_model_module": "@jupyter-widgets/controls",
      "layout": "IPY_MODEL_45567d825840449d84f6c274dc4f6fb8"
     }
    },
    "7a61965a24604b8abd75d76a02844863": {
     "model_module": "@jupyter-widgets/controls",
     "model_name": "DescriptionStyleModel",
     "model_module_version": "1.5.0",
     "state": {
      "_view_name": "StyleView",
      "_model_name": "DescriptionStyleModel",
      "description_width": "",
      "_view_module": "@jupyter-widgets/base",
      "_model_module_version": "1.5.0",
      "_view_count": null,
      "_view_module_version": "1.2.0",
      "_model_module": "@jupyter-widgets/controls"
     }
    },
    "8dbbfe7f89234435804bf45c6fc8ecba": {
     "model_module": "@jupyter-widgets/base",
     "model_name": "LayoutModel",
     "model_module_version": "1.2.0",
     "state": {
      "_view_name": "LayoutView",
      "grid_template_rows": null,
      "right": null,
      "justify_content": null,
      "_view_module": "@jupyter-widgets/base",
      "overflow": null,
      "_model_module_version": "1.2.0",
      "_view_count": null,
      "flex_flow": null,
      "width": null,
      "min_width": null,
      "border": null,
      "align_items": null,
      "bottom": null,
      "_model_module": "@jupyter-widgets/base",
      "top": null,
      "grid_column": null,
      "overflow_y": null,
      "overflow_x": null,
      "grid_auto_flow": null,
      "grid_area": null,
      "grid_template_columns": null,
      "flex": null,
      "_model_name": "LayoutModel",
      "justify_items": null,
      "grid_row": null,
      "max_height": null,
      "align_content": null,
      "visibility": null,
      "align_self": null,
      "height": null,
      "min_height": null,
      "padding": null,
      "grid_auto_rows": null,
      "grid_gap": null,
      "max_width": null,
      "order": null,
      "_view_module_version": "1.2.0",
      "grid_template_areas": null,
      "object_position": null,
      "object_fit": null,
      "grid_auto_columns": null,
      "margin": null,
      "display": null,
      "left": null
     }
    },
    "2e7f40a2dfc44ef398c7159b87772637": {
     "model_module": "@jupyter-widgets/controls",
     "model_name": "ProgressStyleModel",
     "model_module_version": "1.5.0",
     "state": {
      "_view_name": "StyleView",
      "_model_name": "ProgressStyleModel",
      "description_width": "",
      "_view_module": "@jupyter-widgets/base",
      "_model_module_version": "1.5.0",
      "_view_count": null,
      "_view_module_version": "1.2.0",
      "bar_color": null,
      "_model_module": "@jupyter-widgets/controls"
     }
    },
    "e7eb87e0113c4fd29176b352a056e809": {
     "model_module": "@jupyter-widgets/base",
     "model_name": "LayoutModel",
     "model_module_version": "1.2.0",
     "state": {
      "_view_name": "LayoutView",
      "grid_template_rows": null,
      "right": null,
      "justify_content": null,
      "_view_module": "@jupyter-widgets/base",
      "overflow": null,
      "_model_module_version": "1.2.0",
      "_view_count": null,
      "flex_flow": null,
      "width": null,
      "min_width": null,
      "border": null,
      "align_items": null,
      "bottom": null,
      "_model_module": "@jupyter-widgets/base",
      "top": null,
      "grid_column": null,
      "overflow_y": null,
      "overflow_x": null,
      "grid_auto_flow": null,
      "grid_area": null,
      "grid_template_columns": null,
      "flex": null,
      "_model_name": "LayoutModel",
      "justify_items": null,
      "grid_row": null,
      "max_height": null,
      "align_content": null,
      "visibility": null,
      "align_self": null,
      "height": null,
      "min_height": null,
      "padding": null,
      "grid_auto_rows": null,
      "grid_gap": null,
      "max_width": null,
      "order": null,
      "_view_module_version": "1.2.0",
      "grid_template_areas": null,
      "object_position": null,
      "object_fit": null,
      "grid_auto_columns": null,
      "margin": null,
      "display": null,
      "left": null
     }
    },
    "8ddc9304a07347e390ed1996569796d4": {
     "model_module": "@jupyter-widgets/controls",
     "model_name": "DescriptionStyleModel",
     "model_module_version": "1.5.0",
     "state": {
      "_view_name": "StyleView",
      "_model_name": "DescriptionStyleModel",
      "description_width": "",
      "_view_module": "@jupyter-widgets/base",
      "_model_module_version": "1.5.0",
      "_view_count": null,
      "_view_module_version": "1.2.0",
      "_model_module": "@jupyter-widgets/controls"
     }
    },
    "45567d825840449d84f6c274dc4f6fb8": {
     "model_module": "@jupyter-widgets/base",
     "model_name": "LayoutModel",
     "model_module_version": "1.2.0",
     "state": {
      "_view_name": "LayoutView",
      "grid_template_rows": null,
      "right": null,
      "justify_content": null,
      "_view_module": "@jupyter-widgets/base",
      "overflow": null,
      "_model_module_version": "1.2.0",
      "_view_count": null,
      "flex_flow": null,
      "width": null,
      "min_width": null,
      "border": null,
      "align_items": null,
      "bottom": null,
      "_model_module": "@jupyter-widgets/base",
      "top": null,
      "grid_column": null,
      "overflow_y": null,
      "overflow_x": null,
      "grid_auto_flow": null,
      "grid_area": null,
      "grid_template_columns": null,
      "flex": null,
      "_model_name": "LayoutModel",
      "justify_items": null,
      "grid_row": null,
      "max_height": null,
      "align_content": null,
      "visibility": null,
      "align_self": null,
      "height": null,
      "min_height": null,
      "padding": null,
      "grid_auto_rows": null,
      "grid_gap": null,
      "max_width": null,
      "order": null,
      "_view_module_version": "1.2.0",
      "grid_template_areas": null,
      "object_position": null,
      "object_fit": null,
      "grid_auto_columns": null,
      "margin": null,
      "display": null,
      "left": null
     }
    },
    "6e879de159f3452390a92506c822b3fa": {
     "model_module": "@jupyter-widgets/controls",
     "model_name": "HBoxModel",
     "model_module_version": "1.5.0",
     "state": {
      "_view_name": "HBoxView",
      "_dom_classes": [],
      "_model_name": "HBoxModel",
      "_view_module": "@jupyter-widgets/controls",
      "_model_module_version": "1.5.0",
      "_view_count": null,
      "_view_module_version": "1.5.0",
      "box_style": "",
      "layout": "IPY_MODEL_922319f2484346f6b3e9236c49676619",
      "_model_module": "@jupyter-widgets/controls",
      "children": [
       "IPY_MODEL_69eb518b7806463eba73002b9b369274",
       "IPY_MODEL_7e15d039954b4a868368e5699bb5c1c3",
       "IPY_MODEL_54d16db7206d49f7a4811c832a066fc0"
      ]
     }
    },
    "922319f2484346f6b3e9236c49676619": {
     "model_module": "@jupyter-widgets/base",
     "model_name": "LayoutModel",
     "model_module_version": "1.2.0",
     "state": {
      "_view_name": "LayoutView",
      "grid_template_rows": null,
      "right": null,
      "justify_content": null,
      "_view_module": "@jupyter-widgets/base",
      "overflow": null,
      "_model_module_version": "1.2.0",
      "_view_count": null,
      "flex_flow": null,
      "width": null,
      "min_width": null,
      "border": null,
      "align_items": null,
      "bottom": null,
      "_model_module": "@jupyter-widgets/base",
      "top": null,
      "grid_column": null,
      "overflow_y": null,
      "overflow_x": null,
      "grid_auto_flow": null,
      "grid_area": null,
      "grid_template_columns": null,
      "flex": null,
      "_model_name": "LayoutModel",
      "justify_items": null,
      "grid_row": null,
      "max_height": null,
      "align_content": null,
      "visibility": null,
      "align_self": null,
      "height": null,
      "min_height": null,
      "padding": null,
      "grid_auto_rows": null,
      "grid_gap": null,
      "max_width": null,
      "order": null,
      "_view_module_version": "1.2.0",
      "grid_template_areas": null,
      "object_position": null,
      "object_fit": null,
      "grid_auto_columns": null,
      "margin": null,
      "display": null,
      "left": null
     }
    },
    "69eb518b7806463eba73002b9b369274": {
     "model_module": "@jupyter-widgets/controls",
     "model_name": "HTMLModel",
     "model_module_version": "1.5.0",
     "state": {
      "_view_name": "HTMLView",
      "style": "IPY_MODEL_a552b6c09bdb495e84b0de564910c31c",
      "_dom_classes": [],
      "description": "",
      "_model_name": "HTMLModel",
      "placeholder": "​",
      "_view_module": "@jupyter-widgets/controls",
      "_model_module_version": "1.5.0",
      "value": "Downloading: 100%",
      "_view_count": null,
      "_view_module_version": "1.5.0",
      "description_tooltip": null,
      "_model_module": "@jupyter-widgets/controls",
      "layout": "IPY_MODEL_55942dc8f5c444049edb205d21456ce0"
     }
    },
    "7e15d039954b4a868368e5699bb5c1c3": {
     "model_module": "@jupyter-widgets/controls",
     "model_name": "FloatProgressModel",
     "model_module_version": "1.5.0",
     "state": {
      "_view_name": "ProgressView",
      "style": "IPY_MODEL_50228bfb874c4360a8089ee433c1e7b0",
      "_dom_classes": [],
      "description": "",
      "_model_name": "FloatProgressModel",
      "bar_style": "success",
      "max": 466062,
      "_view_module": "@jupyter-widgets/controls",
      "_model_module_version": "1.5.0",
      "value": 466062,
      "_view_count": null,
      "_view_module_version": "1.5.0",
      "orientation": "horizontal",
      "min": 0,
      "description_tooltip": null,
      "_model_module": "@jupyter-widgets/controls",
      "layout": "IPY_MODEL_899fe6931eee45aab0f4cb24d4ba016a"
     }
    },
    "54d16db7206d49f7a4811c832a066fc0": {
     "model_module": "@jupyter-widgets/controls",
     "model_name": "HTMLModel",
     "model_module_version": "1.5.0",
     "state": {
      "_view_name": "HTMLView",
      "style": "IPY_MODEL_3d7e4d14489043228a6fdda3915f311c",
      "_dom_classes": [],
      "description": "",
      "_model_name": "HTMLModel",
      "placeholder": "​",
      "_view_module": "@jupyter-widgets/controls",
      "_model_module_version": "1.5.0",
      "value": " 455k/455k [00:00&lt;00:00, 1.01MB/s]",
      "_view_count": null,
      "_view_module_version": "1.5.0",
      "description_tooltip": null,
      "_model_module": "@jupyter-widgets/controls",
      "layout": "IPY_MODEL_03b44b547609418384e3a9c330eacb1d"
     }
    },
    "a552b6c09bdb495e84b0de564910c31c": {
     "model_module": "@jupyter-widgets/controls",
     "model_name": "DescriptionStyleModel",
     "model_module_version": "1.5.0",
     "state": {
      "_view_name": "StyleView",
      "_model_name": "DescriptionStyleModel",
      "description_width": "",
      "_view_module": "@jupyter-widgets/base",
      "_model_module_version": "1.5.0",
      "_view_count": null,
      "_view_module_version": "1.2.0",
      "_model_module": "@jupyter-widgets/controls"
     }
    },
    "55942dc8f5c444049edb205d21456ce0": {
     "model_module": "@jupyter-widgets/base",
     "model_name": "LayoutModel",
     "model_module_version": "1.2.0",
     "state": {
      "_view_name": "LayoutView",
      "grid_template_rows": null,
      "right": null,
      "justify_content": null,
      "_view_module": "@jupyter-widgets/base",
      "overflow": null,
      "_model_module_version": "1.2.0",
      "_view_count": null,
      "flex_flow": null,
      "width": null,
      "min_width": null,
      "border": null,
      "align_items": null,
      "bottom": null,
      "_model_module": "@jupyter-widgets/base",
      "top": null,
      "grid_column": null,
      "overflow_y": null,
      "overflow_x": null,
      "grid_auto_flow": null,
      "grid_area": null,
      "grid_template_columns": null,
      "flex": null,
      "_model_name": "LayoutModel",
      "justify_items": null,
      "grid_row": null,
      "max_height": null,
      "align_content": null,
      "visibility": null,
      "align_self": null,
      "height": null,
      "min_height": null,
      "padding": null,
      "grid_auto_rows": null,
      "grid_gap": null,
      "max_width": null,
      "order": null,
      "_view_module_version": "1.2.0",
      "grid_template_areas": null,
      "object_position": null,
      "object_fit": null,
      "grid_auto_columns": null,
      "margin": null,
      "display": null,
      "left": null
     }
    },
    "50228bfb874c4360a8089ee433c1e7b0": {
     "model_module": "@jupyter-widgets/controls",
     "model_name": "ProgressStyleModel",
     "model_module_version": "1.5.0",
     "state": {
      "_view_name": "StyleView",
      "_model_name": "ProgressStyleModel",
      "description_width": "",
      "_view_module": "@jupyter-widgets/base",
      "_model_module_version": "1.5.0",
      "_view_count": null,
      "_view_module_version": "1.2.0",
      "bar_color": null,
      "_model_module": "@jupyter-widgets/controls"
     }
    },
    "899fe6931eee45aab0f4cb24d4ba016a": {
     "model_module": "@jupyter-widgets/base",
     "model_name": "LayoutModel",
     "model_module_version": "1.2.0",
     "state": {
      "_view_name": "LayoutView",
      "grid_template_rows": null,
      "right": null,
      "justify_content": null,
      "_view_module": "@jupyter-widgets/base",
      "overflow": null,
      "_model_module_version": "1.2.0",
      "_view_count": null,
      "flex_flow": null,
      "width": null,
      "min_width": null,
      "border": null,
      "align_items": null,
      "bottom": null,
      "_model_module": "@jupyter-widgets/base",
      "top": null,
      "grid_column": null,
      "overflow_y": null,
      "overflow_x": null,
      "grid_auto_flow": null,
      "grid_area": null,
      "grid_template_columns": null,
      "flex": null,
      "_model_name": "LayoutModel",
      "justify_items": null,
      "grid_row": null,
      "max_height": null,
      "align_content": null,
      "visibility": null,
      "align_self": null,
      "height": null,
      "min_height": null,
      "padding": null,
      "grid_auto_rows": null,
      "grid_gap": null,
      "max_width": null,
      "order": null,
      "_view_module_version": "1.2.0",
      "grid_template_areas": null,
      "object_position": null,
      "object_fit": null,
      "grid_auto_columns": null,
      "margin": null,
      "display": null,
      "left": null
     }
    },
    "3d7e4d14489043228a6fdda3915f311c": {
     "model_module": "@jupyter-widgets/controls",
     "model_name": "DescriptionStyleModel",
     "model_module_version": "1.5.0",
     "state": {
      "_view_name": "StyleView",
      "_model_name": "DescriptionStyleModel",
      "description_width": "",
      "_view_module": "@jupyter-widgets/base",
      "_model_module_version": "1.5.0",
      "_view_count": null,
      "_view_module_version": "1.2.0",
      "_model_module": "@jupyter-widgets/controls"
     }
    },
    "03b44b547609418384e3a9c330eacb1d": {
     "model_module": "@jupyter-widgets/base",
     "model_name": "LayoutModel",
     "model_module_version": "1.2.0",
     "state": {
      "_view_name": "LayoutView",
      "grid_template_rows": null,
      "right": null,
      "justify_content": null,
      "_view_module": "@jupyter-widgets/base",
      "overflow": null,
      "_model_module_version": "1.2.0",
      "_view_count": null,
      "flex_flow": null,
      "width": null,
      "min_width": null,
      "border": null,
      "align_items": null,
      "bottom": null,
      "_model_module": "@jupyter-widgets/base",
      "top": null,
      "grid_column": null,
      "overflow_y": null,
      "overflow_x": null,
      "grid_auto_flow": null,
      "grid_area": null,
      "grid_template_columns": null,
      "flex": null,
      "_model_name": "LayoutModel",
      "justify_items": null,
      "grid_row": null,
      "max_height": null,
      "align_content": null,
      "visibility": null,
      "align_self": null,
      "height": null,
      "min_height": null,
      "padding": null,
      "grid_auto_rows": null,
      "grid_gap": null,
      "max_width": null,
      "order": null,
      "_view_module_version": "1.2.0",
      "grid_template_areas": null,
      "object_position": null,
      "object_fit": null,
      "grid_auto_columns": null,
      "margin": null,
      "display": null,
      "left": null
     }
    },
    "8e3f83d806ee443595a030b3356cc7ed": {
     "model_module": "@jupyter-widgets/controls",
     "model_name": "HBoxModel",
     "model_module_version": "1.5.0",
     "state": {
      "_view_name": "HBoxView",
      "_dom_classes": [],
      "_model_name": "HBoxModel",
      "_view_module": "@jupyter-widgets/controls",
      "_model_module_version": "1.5.0",
      "_view_count": null,
      "_view_module_version": "1.5.0",
      "box_style": "",
      "layout": "IPY_MODEL_d71eaf00934c4603ad7aee5d448dc480",
      "_model_module": "@jupyter-widgets/controls",
      "children": [
       "IPY_MODEL_bc2f11b31bb6429882be21824e3df732",
       "IPY_MODEL_7572c120876c4b7b99d4856498ac83c0",
       "IPY_MODEL_47969238e40649b1a6ef1e62e48a2729"
      ]
     }
    },
    "d71eaf00934c4603ad7aee5d448dc480": {
     "model_module": "@jupyter-widgets/base",
     "model_name": "LayoutModel",
     "model_module_version": "1.2.0",
     "state": {
      "_view_name": "LayoutView",
      "grid_template_rows": null,
      "right": null,
      "justify_content": null,
      "_view_module": "@jupyter-widgets/base",
      "overflow": null,
      "_model_module_version": "1.2.0",
      "_view_count": null,
      "flex_flow": null,
      "width": null,
      "min_width": null,
      "border": null,
      "align_items": null,
      "bottom": null,
      "_model_module": "@jupyter-widgets/base",
      "top": null,
      "grid_column": null,
      "overflow_y": null,
      "overflow_x": null,
      "grid_auto_flow": null,
      "grid_area": null,
      "grid_template_columns": null,
      "flex": null,
      "_model_name": "LayoutModel",
      "justify_items": null,
      "grid_row": null,
      "max_height": null,
      "align_content": null,
      "visibility": null,
      "align_self": null,
      "height": null,
      "min_height": null,
      "padding": null,
      "grid_auto_rows": null,
      "grid_gap": null,
      "max_width": null,
      "order": null,
      "_view_module_version": "1.2.0",
      "grid_template_areas": null,
      "object_position": null,
      "object_fit": null,
      "grid_auto_columns": null,
      "margin": null,
      "display": null,
      "left": null
     }
    },
    "bc2f11b31bb6429882be21824e3df732": {
     "model_module": "@jupyter-widgets/controls",
     "model_name": "HTMLModel",
     "model_module_version": "1.5.0",
     "state": {
      "_view_name": "HTMLView",
      "style": "IPY_MODEL_c70b5e49047141bfa1d6ecbeed32c1f9",
      "_dom_classes": [],
      "description": "",
      "_model_name": "HTMLModel",
      "placeholder": "​",
      "_view_module": "@jupyter-widgets/controls",
      "_model_module_version": "1.5.0",
      "value": "Downloading: 100%",
      "_view_count": null,
      "_view_module_version": "1.5.0",
      "description_tooltip": null,
      "_model_module": "@jupyter-widgets/controls",
      "layout": "IPY_MODEL_6409789ebd5347c18ba8deb2bd127174"
     }
    },
    "7572c120876c4b7b99d4856498ac83c0": {
     "model_module": "@jupyter-widgets/controls",
     "model_name": "FloatProgressModel",
     "model_module_version": "1.5.0",
     "state": {
      "_view_name": "ProgressView",
      "style": "IPY_MODEL_01f5d9b832e34e6b91b60d6ccffc8a36",
      "_dom_classes": [],
      "description": "",
      "_model_name": "FloatProgressModel",
      "bar_style": "success",
      "max": 570,
      "_view_module": "@jupyter-widgets/controls",
      "_model_module_version": "1.5.0",
      "value": 570,
      "_view_count": null,
      "_view_module_version": "1.5.0",
      "orientation": "horizontal",
      "min": 0,
      "description_tooltip": null,
      "_model_module": "@jupyter-widgets/controls",
      "layout": "IPY_MODEL_350fd89d55bb4dd48f47d2383d5409c2"
     }
    },
    "47969238e40649b1a6ef1e62e48a2729": {
     "model_module": "@jupyter-widgets/controls",
     "model_name": "HTMLModel",
     "model_module_version": "1.5.0",
     "state": {
      "_view_name": "HTMLView",
      "style": "IPY_MODEL_cf22ccabbcd043799264209344017088",
      "_dom_classes": [],
      "description": "",
      "_model_name": "HTMLModel",
      "placeholder": "​",
      "_view_module": "@jupyter-widgets/controls",
      "_model_module_version": "1.5.0",
      "value": " 570/570 [00:00&lt;00:00, 11.4kB/s]",
      "_view_count": null,
      "_view_module_version": "1.5.0",
      "description_tooltip": null,
      "_model_module": "@jupyter-widgets/controls",
      "layout": "IPY_MODEL_93e9936609934a8897e8f5325468b550"
     }
    },
    "c70b5e49047141bfa1d6ecbeed32c1f9": {
     "model_module": "@jupyter-widgets/controls",
     "model_name": "DescriptionStyleModel",
     "model_module_version": "1.5.0",
     "state": {
      "_view_name": "StyleView",
      "_model_name": "DescriptionStyleModel",
      "description_width": "",
      "_view_module": "@jupyter-widgets/base",
      "_model_module_version": "1.5.0",
      "_view_count": null,
      "_view_module_version": "1.2.0",
      "_model_module": "@jupyter-widgets/controls"
     }
    },
    "6409789ebd5347c18ba8deb2bd127174": {
     "model_module": "@jupyter-widgets/base",
     "model_name": "LayoutModel",
     "model_module_version": "1.2.0",
     "state": {
      "_view_name": "LayoutView",
      "grid_template_rows": null,
      "right": null,
      "justify_content": null,
      "_view_module": "@jupyter-widgets/base",
      "overflow": null,
      "_model_module_version": "1.2.0",
      "_view_count": null,
      "flex_flow": null,
      "width": null,
      "min_width": null,
      "border": null,
      "align_items": null,
      "bottom": null,
      "_model_module": "@jupyter-widgets/base",
      "top": null,
      "grid_column": null,
      "overflow_y": null,
      "overflow_x": null,
      "grid_auto_flow": null,
      "grid_area": null,
      "grid_template_columns": null,
      "flex": null,
      "_model_name": "LayoutModel",
      "justify_items": null,
      "grid_row": null,
      "max_height": null,
      "align_content": null,
      "visibility": null,
      "align_self": null,
      "height": null,
      "min_height": null,
      "padding": null,
      "grid_auto_rows": null,
      "grid_gap": null,
      "max_width": null,
      "order": null,
      "_view_module_version": "1.2.0",
      "grid_template_areas": null,
      "object_position": null,
      "object_fit": null,
      "grid_auto_columns": null,
      "margin": null,
      "display": null,
      "left": null
     }
    },
    "01f5d9b832e34e6b91b60d6ccffc8a36": {
     "model_module": "@jupyter-widgets/controls",
     "model_name": "ProgressStyleModel",
     "model_module_version": "1.5.0",
     "state": {
      "_view_name": "StyleView",
      "_model_name": "ProgressStyleModel",
      "description_width": "",
      "_view_module": "@jupyter-widgets/base",
      "_model_module_version": "1.5.0",
      "_view_count": null,
      "_view_module_version": "1.2.0",
      "bar_color": null,
      "_model_module": "@jupyter-widgets/controls"
     }
    },
    "350fd89d55bb4dd48f47d2383d5409c2": {
     "model_module": "@jupyter-widgets/base",
     "model_name": "LayoutModel",
     "model_module_version": "1.2.0",
     "state": {
      "_view_name": "LayoutView",
      "grid_template_rows": null,
      "right": null,
      "justify_content": null,
      "_view_module": "@jupyter-widgets/base",
      "overflow": null,
      "_model_module_version": "1.2.0",
      "_view_count": null,
      "flex_flow": null,
      "width": null,
      "min_width": null,
      "border": null,
      "align_items": null,
      "bottom": null,
      "_model_module": "@jupyter-widgets/base",
      "top": null,
      "grid_column": null,
      "overflow_y": null,
      "overflow_x": null,
      "grid_auto_flow": null,
      "grid_area": null,
      "grid_template_columns": null,
      "flex": null,
      "_model_name": "LayoutModel",
      "justify_items": null,
      "grid_row": null,
      "max_height": null,
      "align_content": null,
      "visibility": null,
      "align_self": null,
      "height": null,
      "min_height": null,
      "padding": null,
      "grid_auto_rows": null,
      "grid_gap": null,
      "max_width": null,
      "order": null,
      "_view_module_version": "1.2.0",
      "grid_template_areas": null,
      "object_position": null,
      "object_fit": null,
      "grid_auto_columns": null,
      "margin": null,
      "display": null,
      "left": null
     }
    },
    "cf22ccabbcd043799264209344017088": {
     "model_module": "@jupyter-widgets/controls",
     "model_name": "DescriptionStyleModel",
     "model_module_version": "1.5.0",
     "state": {
      "_view_name": "StyleView",
      "_model_name": "DescriptionStyleModel",
      "description_width": "",
      "_view_module": "@jupyter-widgets/base",
      "_model_module_version": "1.5.0",
      "_view_count": null,
      "_view_module_version": "1.2.0",
      "_model_module": "@jupyter-widgets/controls"
     }
    },
    "93e9936609934a8897e8f5325468b550": {
     "model_module": "@jupyter-widgets/base",
     "model_name": "LayoutModel",
     "model_module_version": "1.2.0",
     "state": {
      "_view_name": "LayoutView",
      "grid_template_rows": null,
      "right": null,
      "justify_content": null,
      "_view_module": "@jupyter-widgets/base",
      "overflow": null,
      "_model_module_version": "1.2.0",
      "_view_count": null,
      "flex_flow": null,
      "width": null,
      "min_width": null,
      "border": null,
      "align_items": null,
      "bottom": null,
      "_model_module": "@jupyter-widgets/base",
      "top": null,
      "grid_column": null,
      "overflow_y": null,
      "overflow_x": null,
      "grid_auto_flow": null,
      "grid_area": null,
      "grid_template_columns": null,
      "flex": null,
      "_model_name": "LayoutModel",
      "justify_items": null,
      "grid_row": null,
      "max_height": null,
      "align_content": null,
      "visibility": null,
      "align_self": null,
      "height": null,
      "min_height": null,
      "padding": null,
      "grid_auto_rows": null,
      "grid_gap": null,
      "max_width": null,
      "order": null,
      "_view_module_version": "1.2.0",
      "grid_template_areas": null,
      "object_position": null,
      "object_fit": null,
      "grid_auto_columns": null,
      "margin": null,
      "display": null,
      "left": null
     }
    },
    "5959f1fc9d724c57bc0df193ebbb63f9": {
     "model_module": "@jupyter-widgets/controls",
     "model_name": "HBoxModel",
     "model_module_version": "1.5.0",
     "state": {
      "_view_name": "HBoxView",
      "_dom_classes": [],
      "_model_name": "HBoxModel",
      "_view_module": "@jupyter-widgets/controls",
      "_model_module_version": "1.5.0",
      "_view_count": null,
      "_view_module_version": "1.5.0",
      "box_style": "",
      "layout": "IPY_MODEL_0c78d6dfb7ad46c4b47d10630a80ba5e",
      "_model_module": "@jupyter-widgets/controls",
      "children": [
       "IPY_MODEL_5247c73412bd49f89c9979400193075c",
       "IPY_MODEL_0567244e2f4f4d2bb2a32cb15f8f291d",
       "IPY_MODEL_559dcbaa7cad47cb9223ddcffab3450b"
      ]
     }
    },
    "0c78d6dfb7ad46c4b47d10630a80ba5e": {
     "model_module": "@jupyter-widgets/base",
     "model_name": "LayoutModel",
     "model_module_version": "1.2.0",
     "state": {
      "_view_name": "LayoutView",
      "grid_template_rows": null,
      "right": null,
      "justify_content": null,
      "_view_module": "@jupyter-widgets/base",
      "overflow": null,
      "_model_module_version": "1.2.0",
      "_view_count": null,
      "flex_flow": null,
      "width": null,
      "min_width": null,
      "border": null,
      "align_items": null,
      "bottom": null,
      "_model_module": "@jupyter-widgets/base",
      "top": null,
      "grid_column": null,
      "overflow_y": null,
      "overflow_x": null,
      "grid_auto_flow": null,
      "grid_area": null,
      "grid_template_columns": null,
      "flex": null,
      "_model_name": "LayoutModel",
      "justify_items": null,
      "grid_row": null,
      "max_height": null,
      "align_content": null,
      "visibility": null,
      "align_self": null,
      "height": null,
      "min_height": null,
      "padding": null,
      "grid_auto_rows": null,
      "grid_gap": null,
      "max_width": null,
      "order": null,
      "_view_module_version": "1.2.0",
      "grid_template_areas": null,
      "object_position": null,
      "object_fit": null,
      "grid_auto_columns": null,
      "margin": null,
      "display": null,
      "left": null
     }
    },
    "5247c73412bd49f89c9979400193075c": {
     "model_module": "@jupyter-widgets/controls",
     "model_name": "HTMLModel",
     "model_module_version": "1.5.0",
     "state": {
      "_view_name": "HTMLView",
      "style": "IPY_MODEL_3076d604658444538840575f295ca82d",
      "_dom_classes": [],
      "description": "",
      "_model_name": "HTMLModel",
      "placeholder": "​",
      "_view_module": "@jupyter-widgets/controls",
      "_model_module_version": "1.5.0",
      "value": "Downloading: 100%",
      "_view_count": null,
      "_view_module_version": "1.5.0",
      "description_tooltip": null,
      "_model_module": "@jupyter-widgets/controls",
      "layout": "IPY_MODEL_531f03b7ff044c38a3624a847d4a0846"
     }
    },
    "0567244e2f4f4d2bb2a32cb15f8f291d": {
     "model_module": "@jupyter-widgets/controls",
     "model_name": "FloatProgressModel",
     "model_module_version": "1.5.0",
     "state": {
      "_view_name": "ProgressView",
      "style": "IPY_MODEL_34e480d7e4c84a78b2b915db391b6002",
      "_dom_classes": [],
      "description": "",
      "_model_name": "FloatProgressModel",
      "bar_style": "success",
      "max": 440473133,
      "_view_module": "@jupyter-widgets/controls",
      "_model_module_version": "1.5.0",
      "value": 440473133,
      "_view_count": null,
      "_view_module_version": "1.5.0",
      "orientation": "horizontal",
      "min": 0,
      "description_tooltip": null,
      "_model_module": "@jupyter-widgets/controls",
      "layout": "IPY_MODEL_1917acfdac714b3cb6ea3e78435543e3"
     }
    },
    "559dcbaa7cad47cb9223ddcffab3450b": {
     "model_module": "@jupyter-widgets/controls",
     "model_name": "HTMLModel",
     "model_module_version": "1.5.0",
     "state": {
      "_view_name": "HTMLView",
      "style": "IPY_MODEL_fed7316121664873958f6af8f6dc4d79",
      "_dom_classes": [],
      "description": "",
      "_model_name": "HTMLModel",
      "placeholder": "​",
      "_view_module": "@jupyter-widgets/controls",
      "_model_module_version": "1.5.0",
      "value": " 420M/420M [00:14&lt;00:00, 22.3MB/s]",
      "_view_count": null,
      "_view_module_version": "1.5.0",
      "description_tooltip": null,
      "_model_module": "@jupyter-widgets/controls",
      "layout": "IPY_MODEL_bf1a6ad3b702464ea9827a6202484524"
     }
    },
    "3076d604658444538840575f295ca82d": {
     "model_module": "@jupyter-widgets/controls",
     "model_name": "DescriptionStyleModel",
     "model_module_version": "1.5.0",
     "state": {
      "_view_name": "StyleView",
      "_model_name": "DescriptionStyleModel",
      "description_width": "",
      "_view_module": "@jupyter-widgets/base",
      "_model_module_version": "1.5.0",
      "_view_count": null,
      "_view_module_version": "1.2.0",
      "_model_module": "@jupyter-widgets/controls"
     }
    },
    "531f03b7ff044c38a3624a847d4a0846": {
     "model_module": "@jupyter-widgets/base",
     "model_name": "LayoutModel",
     "model_module_version": "1.2.0",
     "state": {
      "_view_name": "LayoutView",
      "grid_template_rows": null,
      "right": null,
      "justify_content": null,
      "_view_module": "@jupyter-widgets/base",
      "overflow": null,
      "_model_module_version": "1.2.0",
      "_view_count": null,
      "flex_flow": null,
      "width": null,
      "min_width": null,
      "border": null,
      "align_items": null,
      "bottom": null,
      "_model_module": "@jupyter-widgets/base",
      "top": null,
      "grid_column": null,
      "overflow_y": null,
      "overflow_x": null,
      "grid_auto_flow": null,
      "grid_area": null,
      "grid_template_columns": null,
      "flex": null,
      "_model_name": "LayoutModel",
      "justify_items": null,
      "grid_row": null,
      "max_height": null,
      "align_content": null,
      "visibility": null,
      "align_self": null,
      "height": null,
      "min_height": null,
      "padding": null,
      "grid_auto_rows": null,
      "grid_gap": null,
      "max_width": null,
      "order": null,
      "_view_module_version": "1.2.0",
      "grid_template_areas": null,
      "object_position": null,
      "object_fit": null,
      "grid_auto_columns": null,
      "margin": null,
      "display": null,
      "left": null
     }
    },
    "34e480d7e4c84a78b2b915db391b6002": {
     "model_module": "@jupyter-widgets/controls",
     "model_name": "ProgressStyleModel",
     "model_module_version": "1.5.0",
     "state": {
      "_view_name": "StyleView",
      "_model_name": "ProgressStyleModel",
      "description_width": "",
      "_view_module": "@jupyter-widgets/base",
      "_model_module_version": "1.5.0",
      "_view_count": null,
      "_view_module_version": "1.2.0",
      "bar_color": null,
      "_model_module": "@jupyter-widgets/controls"
     }
    },
    "1917acfdac714b3cb6ea3e78435543e3": {
     "model_module": "@jupyter-widgets/base",
     "model_name": "LayoutModel",
     "model_module_version": "1.2.0",
     "state": {
      "_view_name": "LayoutView",
      "grid_template_rows": null,
      "right": null,
      "justify_content": null,
      "_view_module": "@jupyter-widgets/base",
      "overflow": null,
      "_model_module_version": "1.2.0",
      "_view_count": null,
      "flex_flow": null,
      "width": null,
      "min_width": null,
      "border": null,
      "align_items": null,
      "bottom": null,
      "_model_module": "@jupyter-widgets/base",
      "top": null,
      "grid_column": null,
      "overflow_y": null,
      "overflow_x": null,
      "grid_auto_flow": null,
      "grid_area": null,
      "grid_template_columns": null,
      "flex": null,
      "_model_name": "LayoutModel",
      "justify_items": null,
      "grid_row": null,
      "max_height": null,
      "align_content": null,
      "visibility": null,
      "align_self": null,
      "height": null,
      "min_height": null,
      "padding": null,
      "grid_auto_rows": null,
      "grid_gap": null,
      "max_width": null,
      "order": null,
      "_view_module_version": "1.2.0",
      "grid_template_areas": null,
      "object_position": null,
      "object_fit": null,
      "grid_auto_columns": null,
      "margin": null,
      "display": null,
      "left": null
     }
    },
    "fed7316121664873958f6af8f6dc4d79": {
     "model_module": "@jupyter-widgets/controls",
     "model_name": "DescriptionStyleModel",
     "model_module_version": "1.5.0",
     "state": {
      "_view_name": "StyleView",
      "_model_name": "DescriptionStyleModel",
      "description_width": "",
      "_view_module": "@jupyter-widgets/base",
      "_model_module_version": "1.5.0",
      "_view_count": null,
      "_view_module_version": "1.2.0",
      "_model_module": "@jupyter-widgets/controls"
     }
    },
    "bf1a6ad3b702464ea9827a6202484524": {
     "model_module": "@jupyter-widgets/base",
     "model_name": "LayoutModel",
     "model_module_version": "1.2.0",
     "state": {
      "_view_name": "LayoutView",
      "grid_template_rows": null,
      "right": null,
      "justify_content": null,
      "_view_module": "@jupyter-widgets/base",
      "overflow": null,
      "_model_module_version": "1.2.0",
      "_view_count": null,
      "flex_flow": null,
      "width": null,
      "min_width": null,
      "border": null,
      "align_items": null,
      "bottom": null,
      "_model_module": "@jupyter-widgets/base",
      "top": null,
      "grid_column": null,
      "overflow_y": null,
      "overflow_x": null,
      "grid_auto_flow": null,
      "grid_area": null,
      "grid_template_columns": null,
      "flex": null,
      "_model_name": "LayoutModel",
      "justify_items": null,
      "grid_row": null,
      "max_height": null,
      "align_content": null,
      "visibility": null,
      "align_self": null,
      "height": null,
      "min_height": null,
      "padding": null,
      "grid_auto_rows": null,
      "grid_gap": null,
      "max_width": null,
      "order": null,
      "_view_module_version": "1.2.0",
      "grid_template_areas": null,
      "object_position": null,
      "object_fit": null,
      "grid_auto_columns": null,
      "margin": null,
      "display": null,
      "left": null
     }
    }
   }
  }
 },
 "cells": [
  {
   "cell_type": "markdown",
   "metadata": {
    "id": "qkWzhJ2FpM69"
   },
   "source": [
    "##Installation"
   ]
  },
  {
   "cell_type": "code",
   "metadata": {
    "colab": {
     "base_uri": "https://localhost:8080/"
    },
    "id": "ZarorKyHKLx1",
    "outputId": "92f4bce9-1082-44e5-d567-ece2eea550ae"
   },
   "source": [
    "!pip install transformers"
   ],
   "execution_count": 1,
   "outputs": [
    {
     "output_type": "stream",
     "name": "stdout",
     "text": [
      "Collecting transformers\n",
      "  Downloading transformers-4.11.3-py3-none-any.whl (2.9 MB)\n",
      "\u001B[K     |████████████████████████████████| 2.9 MB 5.3 MB/s \n",
      "\u001B[?25hCollecting tokenizers<0.11,>=0.10.1\n",
      "  Downloading tokenizers-0.10.3-cp37-cp37m-manylinux_2_5_x86_64.manylinux1_x86_64.manylinux_2_12_x86_64.manylinux2010_x86_64.whl (3.3 MB)\n",
      "\u001B[K     |████████████████████████████████| 3.3 MB 34.7 MB/s \n",
      "\u001B[?25hCollecting pyyaml>=5.1\n",
      "  Downloading PyYAML-6.0-cp37-cp37m-manylinux_2_5_x86_64.manylinux1_x86_64.manylinux_2_12_x86_64.manylinux2010_x86_64.whl (596 kB)\n",
      "\u001B[K     |████████████████████████████████| 596 kB 39.1 MB/s \n",
      "\u001B[?25hRequirement already satisfied: requests in /usr/local/lib/python3.7/dist-packages (from transformers) (2.23.0)\n",
      "Requirement already satisfied: importlib-metadata in /usr/local/lib/python3.7/dist-packages (from transformers) (4.8.1)\n",
      "Requirement already satisfied: tqdm>=4.27 in /usr/local/lib/python3.7/dist-packages (from transformers) (4.62.3)\n",
      "Collecting huggingface-hub>=0.0.17\n",
      "  Downloading huggingface_hub-0.0.19-py3-none-any.whl (56 kB)\n",
      "\u001B[K     |████████████████████████████████| 56 kB 3.7 MB/s \n",
      "\u001B[?25hRequirement already satisfied: filelock in /usr/local/lib/python3.7/dist-packages (from transformers) (3.3.0)\n",
      "Collecting sacremoses\n",
      "  Downloading sacremoses-0.0.46-py3-none-any.whl (895 kB)\n",
      "\u001B[K     |████████████████████████████████| 895 kB 28.9 MB/s \n",
      "\u001B[?25hRequirement already satisfied: regex!=2019.12.17 in /usr/local/lib/python3.7/dist-packages (from transformers) (2019.12.20)\n",
      "Requirement already satisfied: packaging>=20.0 in /usr/local/lib/python3.7/dist-packages (from transformers) (21.0)\n",
      "Requirement already satisfied: numpy>=1.17 in /usr/local/lib/python3.7/dist-packages (from transformers) (1.19.5)\n",
      "Requirement already satisfied: typing-extensions in /usr/local/lib/python3.7/dist-packages (from huggingface-hub>=0.0.17->transformers) (3.7.4.3)\n",
      "Requirement already satisfied: pyparsing>=2.0.2 in /usr/local/lib/python3.7/dist-packages (from packaging>=20.0->transformers) (2.4.7)\n",
      "Requirement already satisfied: zipp>=0.5 in /usr/local/lib/python3.7/dist-packages (from importlib-metadata->transformers) (3.6.0)\n",
      "Requirement already satisfied: idna<3,>=2.5 in /usr/local/lib/python3.7/dist-packages (from requests->transformers) (2.10)\n",
      "Requirement already satisfied: chardet<4,>=3.0.2 in /usr/local/lib/python3.7/dist-packages (from requests->transformers) (3.0.4)\n",
      "Requirement already satisfied: certifi>=2017.4.17 in /usr/local/lib/python3.7/dist-packages (from requests->transformers) (2021.5.30)\n",
      "Requirement already satisfied: urllib3!=1.25.0,!=1.25.1,<1.26,>=1.21.1 in /usr/local/lib/python3.7/dist-packages (from requests->transformers) (1.24.3)\n",
      "Requirement already satisfied: click in /usr/local/lib/python3.7/dist-packages (from sacremoses->transformers) (7.1.2)\n",
      "Requirement already satisfied: six in /usr/local/lib/python3.7/dist-packages (from sacremoses->transformers) (1.15.0)\n",
      "Requirement already satisfied: joblib in /usr/local/lib/python3.7/dist-packages (from sacremoses->transformers) (1.0.1)\n",
      "Installing collected packages: pyyaml, tokenizers, sacremoses, huggingface-hub, transformers\n",
      "  Attempting uninstall: pyyaml\n",
      "    Found existing installation: PyYAML 3.13\n",
      "    Uninstalling PyYAML-3.13:\n",
      "      Successfully uninstalled PyYAML-3.13\n",
      "Successfully installed huggingface-hub-0.0.19 pyyaml-6.0 sacremoses-0.0.46 tokenizers-0.10.3 transformers-4.11.3\n"
     ]
    }
   ]
  },
  {
   "cell_type": "code",
   "metadata": {
    "id": "m3ScG41AKlA2"
   },
   "source": [
    "import transformers\n",
    "from transformers import BertModel, BertTokenizer, AdamW, get_linear_schedule_with_warmup\n",
    "import numpy as np\n",
    "import pandas as pd\n",
    "import torch\n",
    "import torch.nn.functional as F\n",
    "from torch.utils.data import TensorDataset\n",
    "from torch import nn, optim\n",
    "from torch.utils.data import Dataset, DataLoader\n",
    "from sklearn.metrics import confusion_matrix, classification_report, accuracy_score\n",
    "from sklearn.metrics import precision_recall_fscore_support as score\n",
    "from collections import defaultdict\n",
    "import seaborn as sns\n",
    "import matplotlib.pyplot as plt\n",
    "\n",
    "\n",
    "torch.cuda.empty_cache()\n",
    "device = torch.device(\"cuda:0\" if torch.cuda.is_available() else \"cpu\")"
   ],
   "execution_count": 2,
   "outputs": []
  },
  {
   "cell_type": "markdown",
   "metadata": {
    "id": "8DRAJjrWXHvR"
   },
   "source": [
    "##Configuration"
   ]
  },
  {
   "cell_type": "code",
   "metadata": {
    "colab": {
     "base_uri": "https://localhost:8080/"
    },
    "id": "NHKrEY_N-W19",
    "outputId": "50d93501-60d1-441c-b9a7-1d1f8073ad50"
   },
   "source": [
    "from google.colab import drive\n",
    "drive.mount('/content/drive')"
   ],
   "execution_count": 3,
   "outputs": [
    {
     "output_type": "stream",
     "name": "stdout",
     "text": [
      "Mounted at /content/drive\n"
     ]
    }
   ]
  },
  {
   "cell_type": "code",
   "metadata": {
    "colab": {
     "base_uri": "https://localhost:8080/",
     "height": 162,
     "referenced_widgets": [
      "3166cb906b8b4162b3f1961c58d51219",
      "92f2e7d698a94848a538d62985159773",
      "9ce03ee085394365b437864146a02777",
      "af532c0ce80642188d2b3b4cfbad88ab",
      "19f33602c8c44f6bbf5a62b847a3adcc",
      "e80131dcc2b542a69f5d6386ef0bf1de",
      "c2fcd4b4aa7a4e098cdd2aa3c7b7f27b",
      "15f00e1f98164233836e73141f7f288c",
      "af9670328e9f4ba4ac99e4f1b80a77cb",
      "cfa91e1da1544321ac34444b9376b4fe",
      "963d4c0381e644bdad160403dfa7b4cb",
      "669474f7725146de93c953934d5eff16",
      "8678ea682b674f1596faafb092555cf0",
      "67de9db7549e453290f45c0878b5c613",
      "7661b18f80b04ee1b12f72a65540edc7",
      "14b6c4b32c2642a88fb9fdf0ac867dad",
      "7a61965a24604b8abd75d76a02844863",
      "8dbbfe7f89234435804bf45c6fc8ecba",
      "2e7f40a2dfc44ef398c7159b87772637",
      "e7eb87e0113c4fd29176b352a056e809",
      "8ddc9304a07347e390ed1996569796d4",
      "45567d825840449d84f6c274dc4f6fb8",
      "6e879de159f3452390a92506c822b3fa",
      "922319f2484346f6b3e9236c49676619",
      "69eb518b7806463eba73002b9b369274",
      "7e15d039954b4a868368e5699bb5c1c3",
      "54d16db7206d49f7a4811c832a066fc0",
      "a552b6c09bdb495e84b0de564910c31c",
      "55942dc8f5c444049edb205d21456ce0",
      "50228bfb874c4360a8089ee433c1e7b0",
      "899fe6931eee45aab0f4cb24d4ba016a",
      "3d7e4d14489043228a6fdda3915f311c",
      "03b44b547609418384e3a9c330eacb1d",
      "8e3f83d806ee443595a030b3356cc7ed",
      "d71eaf00934c4603ad7aee5d448dc480",
      "bc2f11b31bb6429882be21824e3df732",
      "7572c120876c4b7b99d4856498ac83c0",
      "47969238e40649b1a6ef1e62e48a2729",
      "c70b5e49047141bfa1d6ecbeed32c1f9",
      "6409789ebd5347c18ba8deb2bd127174",
      "01f5d9b832e34e6b91b60d6ccffc8a36",
      "350fd89d55bb4dd48f47d2383d5409c2",
      "cf22ccabbcd043799264209344017088",
      "93e9936609934a8897e8f5325468b550"
     ]
    },
    "id": "JuuBaoq9MmVH",
    "outputId": "b1f3d11b-0f3c-4793-8b82-775856251d63"
   },
   "source": [
    "MODEL_PATH = '/content/drive/MyDrive/NLP/NYT/best_rel_bert.pt'\n",
    "DATA_LOADER_PATH = '/content/drive/MyDrive/NLP/NYT/'\n",
    "DATASET_PATH = '/content/drive/MyDrive/NLP/NYT'\n",
    "PRE_TRAINED_MODEL = 'bert-base-uncased'\n",
    "MAX_LENGTH = 128\n",
    "BATCH_SIZE = 32\n",
    "# each epoch was executed separately due to google collab execution time constraints\n",
    "EPOCHS = 1 \n",
    "DROPOUT_PROBABILITY = 0.2\n",
    "N_WARMUP_STEPS = 500\n",
    "LEARNING_RATE = 2e-5\n",
    "TOKENIZER = BertTokenizer.from_pretrained(PRE_TRAINED_MODEL)\n",
    "TOKENIZER.add_special_tokens({\"additional_special_tokens\": [\"<e1>\", \"</e1>\", \"<e2>\", \"</e2>\"]})"
   ],
   "execution_count": 4,
   "outputs": [
    {
     "output_type": "display_data",
     "data": {
      "application/vnd.jupyter.widget-view+json": {
       "model_id": "3166cb906b8b4162b3f1961c58d51219",
       "version_minor": 0,
       "version_major": 2
      },
      "text/plain": [
       "Downloading:   0%|          | 0.00/226k [00:00<?, ?B/s]"
      ]
     },
     "metadata": {}
    },
    {
     "output_type": "display_data",
     "data": {
      "application/vnd.jupyter.widget-view+json": {
       "model_id": "669474f7725146de93c953934d5eff16",
       "version_minor": 0,
       "version_major": 2
      },
      "text/plain": [
       "Downloading:   0%|          | 0.00/28.0 [00:00<?, ?B/s]"
      ]
     },
     "metadata": {}
    },
    {
     "output_type": "display_data",
     "data": {
      "application/vnd.jupyter.widget-view+json": {
       "model_id": "6e879de159f3452390a92506c822b3fa",
       "version_minor": 0,
       "version_major": 2
      },
      "text/plain": [
       "Downloading:   0%|          | 0.00/455k [00:00<?, ?B/s]"
      ]
     },
     "metadata": {}
    },
    {
     "output_type": "display_data",
     "data": {
      "application/vnd.jupyter.widget-view+json": {
       "model_id": "8e3f83d806ee443595a030b3356cc7ed",
       "version_minor": 0,
       "version_major": 2
      },
      "text/plain": [
       "Downloading:   0%|          | 0.00/570 [00:00<?, ?B/s]"
      ]
     },
     "metadata": {}
    },
    {
     "output_type": "execute_result",
     "data": {
      "text/plain": [
       "4"
      ]
     },
     "metadata": {},
     "execution_count": 4
    }
   ]
  },
  {
   "cell_type": "code",
   "metadata": {
    "id": "KSWHJvsjCgVc"
   },
   "source": [
    "relations = pd.read_csv(f'{DATASET_PATH}/relations.txt', sep = \"\\t\", header=None)\n",
    "classes = {}\n",
    "for i, r in enumerate(relations[0]):\n",
    "  classes[r] = i\n",
    "classes['other'] = 29"
   ],
   "execution_count": 5,
   "outputs": []
  },
  {
   "cell_type": "code",
   "metadata": {
    "colab": {
     "base_uri": "https://localhost:8080/"
    },
    "id": "gIMNjLgomwdQ",
    "outputId": "98b986d8-2eb5-44f8-8414-a901cf5dbf40"
   },
   "source": [
    "relations[0].tolist()"
   ],
   "execution_count": 6,
   "outputs": [
    {
     "output_type": "execute_result",
     "data": {
      "text/plain": [
       "['/location/administrative_division/country',\n",
       " '/location/country/capital',\n",
       " '/location/country/administrative_divisions',\n",
       " '/location/neighborhood/neighborhood_of',\n",
       " '/location/location/contains',\n",
       " '/people/person/nationality',\n",
       " '/people/person/place_lived',\n",
       " '/people/deceased_person/place_of_death',\n",
       " '/business/person/company',\n",
       " '/location/us_state/capital',\n",
       " '/people/person/place_of_birth',\n",
       " '/people/person/children',\n",
       " '/business/company/founders',\n",
       " '/business/company/place_founded',\n",
       " '/sports/sports_team/location',\n",
       " '/people/person/ethnicity',\n",
       " '/people/ethnicity/geographic_distribution',\n",
       " '/people/person/religion',\n",
       " '/business/company/major_shareholders',\n",
       " '/location/province/capital',\n",
       " '/location/br_state/capital',\n",
       " '/business/company/advisors',\n",
       " '/film/film_location/featured_in_films',\n",
       " '/film/film/featured_film_locations',\n",
       " '/location/us_county/county_seat',\n",
       " '/time/event/locations',\n",
       " '/people/deceased_person/place_of_burial',\n",
       " '/people/place_of_interment/interred_here',\n",
       " '/business/company_advisor/companies_advised']"
      ]
     },
     "metadata": {},
     "execution_count": 6
    }
   ]
  },
  {
   "cell_type": "markdown",
   "metadata": {
    "id": "8NVzkpYqalA9"
   },
   "source": [
    "# Preprocessing"
   ]
  },
  {
   "cell_type": "code",
   "metadata": {
    "id": "j6cQNyZ4a_Tc"
   },
   "source": [
    "def preprocess(text_data, entity_data):\n",
    "  processed = []\n",
    "  for i, t in enumerate(text_data[0]):\n",
    "    entities = entity_data[0][i].split(\" | \")\n",
    "    entity_set = set()\n",
    "    entity_label_map = {}\n",
    "    for e in entities:\n",
    "      vals = e.split(\" \")\n",
    "      e1_s = int(vals[0])\n",
    "      e1_e = int(vals[1])\n",
    "      e2_s = int(vals[2])\n",
    "      e2_e = int(vals[3])\n",
    "      entity_set.add((e1_s, e1_e))\n",
    "      entity_set.add((e2_s, e2_e))\n",
    "      entity_label_map.setdefault(((e1_s, e1_e), (e2_s, e2_e)), [])\n",
    "      entity_label_map[((e1_s, e1_e), (e2_s, e2_e))].append(classes[vals[4]])\n",
    "\n",
    "    # permute entity pairs and add to dataset\n",
    "    for e1 in list(entity_set):\n",
    "      for e2 in list(entity_set):\n",
    "        if e1 != e2:\n",
    "          words = t.strip().split(\" \")\n",
    "          if e1[1] < e2[0]:\n",
    "            words = words[:e1[0]] + [\"<e1>\"] + words[e1[0]:e1[1]+1] + [\"</e1>\"] + words[e1[1]+1:e2[0]] + [\"<e2>\"] + words[e2[0]:e2[1]+1] + [\"</e2>\"] + words[e2[1]+1:]\n",
    "          else:\n",
    "            words = words[:e2[0]] + [\"<e2>\"] + words[e2[0]:e2[1]+1] + [\"</e2>\"] + words[e2[1]+1:e1[0]] + [\"<e1>\"] + words[e1[0]:e1[1]+1] + [\"</e1>\"] + words[e1[1]+1:]\n",
    "          processed.append({'text': \" \".join(words),\n",
    "                                  'e1_start': e1[0],\n",
    "                                  'e1_end': e1[1],\n",
    "                                  'e2_start': e2[0],\n",
    "                                  'e2_end': e2[1],\n",
    "                                  'labels': entity_label_map.get((e1, e2), [29])})\n",
    "  return pd.DataFrame(processed)\n"
   ],
   "execution_count": 7,
   "outputs": []
  },
  {
   "cell_type": "code",
   "metadata": {
    "id": "_ynTNN9jM3im"
   },
   "source": [
    "def convert_samples_to_features(\n",
    "    samples,\n",
    "    max_seq_len,\n",
    "    tokenizer,\n",
    "):\n",
    "    features = []\n",
    "    cls_token=\"[CLS]\"\n",
    "    sep_token=\"[SEP]\"\n",
    "\n",
    "    for (i, sample) in samples.iterrows():\n",
    "\n",
    "        # tokenize\n",
    "        tokens = tokenizer.tokenize(sample['text'])\n",
    "\n",
    "        # find starting and ending index of entities\n",
    "        e1_s = tokens.index(\"<e1>\")  \n",
    "        e1_e = tokens.index(\"</e1>\")  \n",
    "        e2_s = tokens.index(\"<e2>\")  \n",
    "        e2_e = tokens.index(\"</e2>\")\n",
    "        \n",
    "        # ignore sample if ending index of entity is greated than max_length\n",
    "        if e2_e >= max_seq_len - 1 or e1_e >= max_seq_len - 1:\n",
    "          continue\n",
    "\n",
    "        # replace token with $ and # signs\n",
    "        tokens[e1_s] = \"$\"\n",
    "        tokens[e1_e] = \"$\"\n",
    "        tokens[e2_s] = \"#\"\n",
    "        tokens[e2_e] = \"#\"\n",
    "        \n",
    "        # truncate\n",
    "        if len(tokens) > max_seq_len - 2:\n",
    "            tokens = tokens[: (max_seq_len - 2)]\n",
    "\n",
    "        tokens += [sep_token]\n",
    "\n",
    "        token_type_ids = [0] * len(tokens)\n",
    "\n",
    "        tokens = [cls_token] + tokens\n",
    "        token_type_ids = [0] + token_type_ids\n",
    "\n",
    "        input_ids = tokenizer.convert_tokens_to_ids(tokens)\n",
    "\n",
    "        \n",
    "        attention_mask = [1] * len(input_ids)\n",
    "\n",
    "        # add zero padding\n",
    "        padding_length = max_seq_len - len(input_ids)\n",
    "        input_ids = input_ids + ([0] * padding_length)\n",
    "        attention_mask = attention_mask + ([0] * padding_length)\n",
    "        token_type_ids = token_type_ids + ([0] * padding_length)\n",
    "\n",
    "        # create e1 and e2 mask\n",
    "        e1_mask = [0] * len(attention_mask)\n",
    "        e2_mask = [0] * len(attention_mask)\n",
    "\n",
    "        for i in range(e1_s + 1, e1_e + 2):\n",
    "            e1_mask[i] = 1\n",
    "        for i in range(e2_s + 1, e2_e + 2):\n",
    "            e2_mask[i] = 1\n",
    "    \n",
    "        label_ids = sample['labels']\n",
    "\n",
    "        features.append({\n",
    "                \"input_ids\":input_ids,\n",
    "                \"attention_mask\":attention_mask,\n",
    "                \"token_type_ids\":token_type_ids,\n",
    "                \"label_ids\":label_ids,\n",
    "                \"e1_mask\":e1_mask,\n",
    "                \"e2_mask\":e2_mask,\n",
    "            })\n",
    "\n",
    "    return features"
   ],
   "execution_count": 8,
   "outputs": []
  },
  {
   "cell_type": "code",
   "metadata": {
    "id": "irZqLAIHXo0W"
   },
   "source": [
    "def convert_features_to_dataset(features):\n",
    "  input_ids = torch.tensor([f[\"input_ids\"] for f in features], dtype=torch.long)\n",
    "  attention_mask = torch.tensor([f[\"attention_mask\"] for f in features], dtype=torch.long)\n",
    "  token_type_ids = torch.tensor([f['token_type_ids'] for f in features], dtype=torch.long)\n",
    "  e1_mask = torch.tensor([f['e1_mask'] for f in features], dtype=torch.long)  # add e1 mask\n",
    "  e2_mask = torch.tensor([f['e2_mask'] for f in features], dtype=torch.long)  # add e2 mask\n",
    "\n",
    "  labels = []\n",
    "  # convert label to one hot representation\n",
    "  for f in features:\n",
    "    label = [0]*30\n",
    "    for i in f['label_ids']:\n",
    "      label[i] = 1\n",
    "    labels.append(label)\n",
    "  label_ids = torch.tensor(labels)\n",
    "\n",
    "  dataset = TensorDataset(\n",
    "      input_ids,\n",
    "      attention_mask,\n",
    "      token_type_ids,\n",
    "      e1_mask,\n",
    "      e2_mask,\n",
    "      label_ids,\n",
    "  )\n",
    "  return dataset"
   ],
   "execution_count": 9,
   "outputs": []
  },
  {
   "cell_type": "code",
   "metadata": {
    "id": "98_7TX7NXo_4"
   },
   "source": [
    "def save_data_loader(loader, loader_type):\n",
    "  loader_path = f\"{DATA_LOADER_PATH}{loader_type}.pt\" \n",
    "  torch.save({'features': loader}, loader_path)\n",
    "\n",
    "def load_data_loader(loader_type):\n",
    "  state = None\n",
    "  try:\n",
    "    state = torch.load(f\"{DATA_LOADER_PATH}{loader_type}.pt\")\n",
    "  except FileNotFoundError:\n",
    "    pass\n",
    "  if state:\n",
    "    return state['features']\n",
    "  return None"
   ],
   "execution_count": 11,
   "outputs": []
  },
  {
   "cell_type": "markdown",
   "metadata": {
    "id": "lO7iweBf4lG5"
   },
   "source": [
    "#### Load Data"
   ]
  },
  {
   "cell_type": "code",
   "metadata": {
    "id": "QgfwkySC7T7B"
   },
   "source": [
    "train_data = pd.read_csv(f'{DATASET_PATH}/train.sent', sep = \"\\t\", header=None)\n",
    "train_data_loader = load_data_loader('train')\n",
    "if not train_data_loader:\n",
    "  train_entities = pd.read_csv(f'{DATASET_PATH}/train.pointer', sep = \"\\t\", header=None)\n",
    "  train_data = preprocess(train_data, train_entities)\n",
    "  train_features = convert_samples_to_features(train_data, MAX_LENGTH, TOKENIZER)\n",
    "  train_data_loader = DataLoader(dataset=convert_features_to_dataset(train_features), batch_size=BATCH_SIZE)\n",
    "  save_data_loader(train_data_loader, 'train')\n",
    "\n",
    "dev_data = pd.read_csv(f'{DATASET_PATH}/dev.sent', sep = \"\\t\", header=None)\n",
    "dev_data_loader = load_data_loader('dev')\n",
    "if not dev_data_loader:\n",
    "  dev_entities = pd.read_csv(f'{DATASET_PATH}/dev.pointer', sep = \"\\t\", header=None)\n",
    "  dev_data = preprocess(dev_data, dev_entities)\n",
    "  dev_features = convert_samples_to_features(dev_data, MAX_LENGTH, TOKENIZER)\n",
    "  dev_data_loader = DataLoader(dataset=convert_features_to_dataset(dev_features), batch_size=BATCH_SIZE)\n",
    "  save_data_loader(dev_data_loader, 'dev')\n",
    "\n",
    "test_data = pd.read_csv(f'{DATASET_PATH}/test.sent', sep = \"\\t\", header=None)\n",
    "test_data_loader = load_data_loader('test')\n",
    "if not test_data_loader:\n",
    "  test_entities = pd.read_csv(f'{DATASET_PATH}/test.pointer', sep = \"\\t\", header=None)\n",
    "  test_data = preprocess(test_data, test_entities)\n",
    "  test_features = convert_samples_to_features(test_data, MAX_LENGTH, TOKENIZER)\n",
    "  test_data_loader = DataLoader(dataset=convert_features_to_dataset(test_features), batch_size=BATCH_SIZE)\n",
    "  save_data_loader(test_data_loader, 'test')"
   ],
   "execution_count": 12,
   "outputs": []
  },
  {
   "cell_type": "code",
   "metadata": {
    "colab": {
     "base_uri": "https://localhost:8080/"
    },
    "id": "LAHOd-_bBfwJ",
    "outputId": "2869e867-6cfe-474d-dc91-3a5bc573b565"
   },
   "source": [
    "print(\"Raw dataset lengths:\")\n",
    "print(f\"train - {len(train_data)}, dev - {len(dev_data)}, test - {len(test_data)}\")\n",
    "print(\"Pre processed dataset lengths:\")\n",
    "print(f\"train - {len(train_data_loader) * BATCH_SIZE}, dev - {len(dev_data_loader) * BATCH_SIZE}, test - {len(test_data_loader) * BATCH_SIZE}\")"
   ],
   "execution_count": 13,
   "outputs": [
    {
     "output_type": "stream",
     "name": "stdout",
     "text": [
      "Raw dataset lengths:\n",
      "train - 63306, dev - 7033, test - 4006\n",
      "Pre processed dataset lengths:\n",
      "train - 146496, dev - 16352, test - 9408\n"
     ]
    }
   ]
  },
  {
   "cell_type": "markdown",
   "metadata": {
    "id": "cfVrdAE2sSas"
   },
   "source": [
    "####Classifier"
   ]
  },
  {
   "cell_type": "code",
   "metadata": {
    "id": "sG89RU_BYaVV"
   },
   "source": [
    "class FCLayer(nn.Module):\n",
    "  def __init__(self, input_dim, output_dim, dropout_rate=0.0, use_activation=True):\n",
    "      super(FCLayer, self).__init__()\n",
    "      self.use_activation = use_activation\n",
    "      self.dropout = nn.Dropout(dropout_rate)\n",
    "      self.linear = nn.Linear(input_dim, output_dim)\n",
    "      self.sigmoid = nn.Sigmoid()\n",
    "      self.tanh = nn.Tanh()\n",
    "  def forward(self, x):\n",
    "      x = self.dropout(x)\n",
    "      x = self.linear(x)\n",
    "      if self.use_activation:\n",
    "        # used on intermediate layers\n",
    "        x = self.tanh(x)\n",
    "      else:\n",
    "        # used for final layer\n",
    "        x = self.sigmoid(x)\n",
    "      return x\n",
    "\n",
    "\n",
    "class RelationsBert(nn.Module):\n",
    "  \n",
    "  def __init__(self, num_classes):\n",
    "    super(RelationsBert, self).__init__()\n",
    "    # core bert model\n",
    "    self.bert = BertModel.from_pretrained(PRE_TRAINED_MODEL)\n",
    "    # drop out layer for bert output (for regularization)\n",
    "    self.drop_out = nn.Dropout(p=DROPOUT_PROBABILITY)\n",
    "\n",
    "    bert_size = self.bert.config.hidden_size\n",
    "    self.fc_layer = FCLayer(bert_size, bert_size, DROPOUT_PROBABILITY)\n",
    "    self.entity_fc_layer = FCLayer(bert_size, bert_size, DROPOUT_PROBABILITY)\n",
    "    self.num_labels = num_classes\n",
    "    self.label_classifier = FCLayer(\n",
    "        bert_size * 3,\n",
    "        num_classes,\n",
    "        DROPOUT_PROBABILITY,\n",
    "        use_activation=False,\n",
    "    )\n",
    "    \n",
    "  def forward(self, input_ids, attention_mask, token_type_ids, labels, e1_mask, e2_mask):\n",
    "    outputs = self.bert(\n",
    "            input_ids, attention_mask=attention_mask, token_type_ids=token_type_ids\n",
    "        )\n",
    "    sequence_output = outputs[0]\n",
    "    pooled_output = outputs[1]\n",
    "    \n",
    "    # averaged entities\n",
    "    e1_h = self.entity_average(sequence_output, e1_mask)\n",
    "    e2_h = self.entity_average(sequence_output, e2_mask)\n",
    "\n",
    "    # pass through fully connected layer\n",
    "    pooled_output = self.fc_layer(pooled_output)\n",
    "    e1_h = self.entity_fc_layer(e1_h)\n",
    "    e2_h = self.entity_fc_layer(e2_h)\n",
    "\n",
    "    # concatenate the 3 outputs\n",
    "    concat_h = torch.cat([pooled_output, e1_h, e2_h], dim=-1)\n",
    "\n",
    "    # final fully connected layer with sigmoid\n",
    "    logits = self.label_classifier(concat_h)\n",
    "\n",
    "    outputs = (logits,) + outputs[2:]\n",
    "    \n",
    "    # find loss\n",
    "    loss_func = nn.BCELoss()\n",
    "    loss = loss_func(logits.view(-1, self.num_labels), labels.float())\n",
    "\n",
    "    outputs = (loss,) + outputs\n",
    "\n",
    "    return outputs\n",
    "  \n",
    "  def entity_average(self, hidden_output, e_mask):\n",
    "    e_mask_unsqueeze = e_mask.unsqueeze(1)  \n",
    "    length_tensor = (e_mask != 0).sum(dim=1).unsqueeze(1)\n",
    "\n",
    "    sum_vector = torch.bmm(e_mask_unsqueeze.float(), hidden_output).squeeze(1)\n",
    "    avg_vector = sum_vector.float() / length_tensor.float()\n",
    "    return avg_vector"
   ],
   "execution_count": 14,
   "outputs": []
  },
  {
   "cell_type": "markdown",
   "metadata": {
    "id": "PABR5GsOsrop"
   },
   "source": [
    "####Training"
   ]
  },
  {
   "cell_type": "code",
   "metadata": {
    "id": "bbr3TS3MZ0I1"
   },
   "source": [
    "def train_epoch(model, data_loader, scheduler, optimizer,\n",
    "                device, n_samples):\n",
    "  \n",
    "  model = model.train()\n",
    "  batch_count = 1\n",
    "  loss_vals = []\n",
    "  \n",
    "  for d in data_loader:\n",
    "    if batch_count % 500 == 0:\n",
    "      print(f\"Batch: {batch_count}/{len(data_loader)}\")\n",
    "    batch_count += 1\n",
    "    input_ids = d[0].to(device)\n",
    "    attention_mask = d[1].to(device)\n",
    "    token_type_ids = d[2].to(device)\n",
    "    e1_mask = d[3].to(device)\n",
    "    e2_mask = d[4].to(device)\n",
    "    labels = d[5].to(device)\n",
    "\n",
    "    # set zero gradients\n",
    "    optimizer.zero_grad()\n",
    "\n",
    "    # train\n",
    "    outputs = model(\n",
    "      input_ids=input_ids,\n",
    "      attention_mask=attention_mask,\n",
    "      token_type_ids=token_type_ids,\n",
    "      labels=labels,\n",
    "      e1_mask=e1_mask,\n",
    "      e2_mask=e2_mask\n",
    "    )\n",
    "    \n",
    "    # find loss\n",
    "    loss = outputs[0]\n",
    "    loss_vals.append(loss.item())\n",
    "    if batch_count % 500 == 0:\n",
    "      print (f'Training loss: {loss_vals[-1]}')\n",
    "\n",
    "    loss.backward()\n",
    "\n",
    "    # clip gradients to prevent from exploding gradients\n",
    "    nn.utils.clip_grad_norm_(model.parameters(), max_norm=1.0)\n",
    "    optimizer.step()\n",
    "    scheduler.step()\n",
    "  \n",
    "  return np.mean(loss_vals)\n",
    "    "
   ],
   "execution_count": 15,
   "outputs": []
  },
  {
   "cell_type": "markdown",
   "metadata": {
    "id": "zvUJcoRSsvJF"
   },
   "source": [
    "####Prediction"
   ]
  },
  {
   "cell_type": "code",
   "metadata": {
    "id": "LmfIqMCDjX8R"
   },
   "source": [
    "def predict(model, data_loader, device):\n",
    "  model = model.eval()\n",
    "  \n",
    "  predictions = []\n",
    "  targets = []\n",
    "\n",
    "  with torch.no_grad():\n",
    "    for d in data_loader:\n",
    "\n",
    "      input_ids = d[0].to(device)\n",
    "      attention_mask = d[1].to(device)\n",
    "      token_type_ids = d[2].to(device)\n",
    "      e1_mask = d[3].to(device)\n",
    "      e2_mask = d[4].to(device)\n",
    "      labels = d[5].to(device)\n",
    "      \n",
    "      outputs = model(\n",
    "        input_ids=input_ids,\n",
    "        attention_mask=attention_mask,\n",
    "        token_type_ids=token_type_ids,\n",
    "        labels=labels,\n",
    "        e1_mask=e1_mask,\n",
    "        e2_mask=e2_mask\n",
    "      )\n",
    "\n",
    "      predictions.extend(outputs[1])\n",
    "      targets.extend(labels)\n",
    "\n",
    "  return torch.stack(predictions).cpu(), torch.stack(targets).cpu()"
   ],
   "execution_count": 16,
   "outputs": []
  },
  {
   "cell_type": "markdown",
   "metadata": {
    "id": "pgrIL_-Sszb2"
   },
   "source": [
    "#### Model Save/Load"
   ]
  },
  {
   "cell_type": "code",
   "metadata": {
    "id": "_yqaIYrMiEop"
   },
   "source": [
    "def save_model():\n",
    "  path = f\"{MODEL_PATH}\" \n",
    "  torch.save({'model': model.state_dict()}, path)\n",
    "\n",
    "def load_model():\n",
    "  state = None\n",
    "  try:\n",
    "    state = torch.load(f'{MODEL_PATH}')\n",
    "  except FileNotFoundError:\n",
    "    pass\n",
    "  if state:\n",
    "    model.load_state_dict(state['model'])"
   ],
   "execution_count": 17,
   "outputs": []
  },
  {
   "cell_type": "markdown",
   "metadata": {
    "id": "foYxe4B-4u4_"
   },
   "source": [
    "####Driver Code"
   ]
  },
  {
   "cell_type": "code",
   "metadata": {
    "colab": {
     "base_uri": "https://localhost:8080/",
     "height": 477,
     "referenced_widgets": [
      "5959f1fc9d724c57bc0df193ebbb63f9",
      "0c78d6dfb7ad46c4b47d10630a80ba5e",
      "5247c73412bd49f89c9979400193075c",
      "0567244e2f4f4d2bb2a32cb15f8f291d",
      "559dcbaa7cad47cb9223ddcffab3450b",
      "3076d604658444538840575f295ca82d",
      "531f03b7ff044c38a3624a847d4a0846",
      "34e480d7e4c84a78b2b915db391b6002",
      "1917acfdac714b3cb6ea3e78435543e3",
      "fed7316121664873958f6af8f6dc4d79",
      "bf1a6ad3b702464ea9827a6202484524"
     ]
    },
    "id": "Lp0WBspdi0oW",
    "outputId": "ee0f7913-a3c1-4f0e-a2ec-d8b52f869ad0"
   },
   "source": [
    "# Initialize Classifier model\n",
    "model = RelationsBert(len(classes))\n",
    "model = model.to(device)\n",
    "\n",
    "# Initialize optimizer and scheduler\n",
    "optimizer = AdamW(model.parameters(), lr=LEARNING_RATE, correct_bias=False)\n",
    "total_steps = len(train_data_loader) * EPOCHS\n",
    "scheduler = get_linear_schedule_with_warmup(\n",
    "  optimizer,\n",
    "  num_warmup_steps=N_WARMUP_STEPS,\n",
    "  num_training_steps=total_steps\n",
    ")\n",
    "\n",
    "load_model()\n",
    "print(f\"Total train batches: {len(train_data_loader)}\")\n",
    "\n",
    "# Training loop\n",
    "for epoch in range(EPOCHS):\n",
    "  print(f'Epoch {epoch + 1}/{EPOCHS}:')\n",
    "  \n",
    "  loss = train_epoch(model, train_data_loader, scheduler, optimizer, device, len(train_data))\n",
    "  print(f'Training loss {loss}')\n",
    "\n",
    "save_model()\n",
    "  \n"
   ],
   "execution_count": 18,
   "outputs": [
    {
     "data": {
      "application/vnd.jupyter.widget-view+json": {
       "model_id": "5959f1fc9d724c57bc0df193ebbb63f9",
       "version_major": 2,
       "version_minor": 0
      },
      "text/plain": [
       "Downloading:   0%|          | 0.00/420M [00:00<?, ?B/s]"
      ]
     },
     "metadata": {},
     "output_type": "display_data"
    },
    {
     "metadata": {
      "tags": null
     },
     "name": "stderr",
     "output_type": "stream",
     "text": [
      "Some weights of the model checkpoint at bert-base-uncased were not used when initializing BertModel: ['cls.predictions.transform.dense.weight', 'cls.seq_relationship.bias', 'cls.predictions.transform.LayerNorm.bias', 'cls.predictions.decoder.weight', 'cls.predictions.bias', 'cls.predictions.transform.dense.bias', 'cls.seq_relationship.weight', 'cls.predictions.transform.LayerNorm.weight']\n",
      "- This IS expected if you are initializing BertModel from the checkpoint of a model trained on another task or with another architecture (e.g. initializing a BertForSequenceClassification model from a BertForPreTraining model).\n",
      "- This IS NOT expected if you are initializing BertModel from the checkpoint of a model that you expect to be exactly identical (initializing a BertForSequenceClassification model from a BertForSequenceClassification model).\n"
     ]
    },
    {
     "output_type": "stream",
     "name": "stdout",
     "text": [
      "Total train batches: 4578\n",
      "Epoch 1/1:\n",
      "Training loss: 0.023425227031111717\n",
      "Batch: 500/4578\n",
      "Training loss: 0.0022069381084293127\n",
      "Batch: 1000/4578\n",
      "Training loss: 0.016091329976916313\n",
      "Batch: 1500/4578\n",
      "Training loss: 0.0028149124700576067\n",
      "Batch: 2000/4578\n",
      "Training loss: 0.009956803172826767\n",
      "Batch: 2500/4578\n",
      "Training loss: 0.007720405701547861\n",
      "Batch: 3000/4578\n",
      "Training loss: 0.01957617700099945\n",
      "Batch: 3500/4578\n",
      "Training loss: 0.011288691312074661\n",
      "Batch: 4000/4578\n",
      "Training loss: 0.006367669440805912\n",
      "Batch: 4500/4578\n",
      "Training loss 0.009370133309991424\n"
     ]
    }
   ]
  },
  {
   "cell_type": "markdown",
   "metadata": {
    "id": "j65bunols_dv"
   },
   "source": [
    "##Results"
   ]
  },
  {
   "cell_type": "code",
   "metadata": {
    "id": "ST-2hbjQ4vKq"
   },
   "source": [
    "def process_result(preds, labels, threshold):\n",
    "  y_pred, y_true = [], []\n",
    "  for i in range(len(labels)):\n",
    "    if labels[i][29] == 1:\n",
    "        continue\n",
    "    args = [1 if preds[i][k] >= threshold else 0 for k in range(len(preds[i])) ]\n",
    "    y_pred.append(args)\n",
    "    y_true.append(labels[i].cpu().tolist())\n",
    "  return y_pred, y_true"
   ],
   "execution_count": 21,
   "outputs": []
  },
  {
   "cell_type": "markdown",
   "metadata": {
    "id": "Ct-4fA1_41-U"
   },
   "source": [
    "##Training Set"
   ]
  },
  {
   "cell_type": "code",
   "metadata": {
    "id": "VudNWcjenx32"
   },
   "source": [
    "preds, labels = predict(model, train_data_loader, device)"
   ],
   "execution_count": 20,
   "outputs": []
  },
  {
   "cell_type": "code",
   "metadata": {
    "id": "rAFD6ZFpuMu2",
    "colab": {
     "base_uri": "https://localhost:8080/"
    },
    "outputId": "156a98b0-08c2-47a5-8910-10ea29ceb3ce"
   },
   "source": [
    "y_pred, y_true = process_result(preds, labels, 0.5)\n",
    "print(classification_report(y_true,y_pred, labels=[i for i in range(29)], target_names=relations[0].tolist()))"
   ],
   "execution_count": 21,
   "outputs": [
    {
     "output_type": "stream",
     "name": "stdout",
     "text": [
      "                                             precision    recall  f1-score   support\n",
      "\n",
      "  /location/administrative_division/country       1.00      1.00      1.00      5768\n",
      "                  /location/country/capital       1.00      1.00      1.00      6679\n",
      " /location/country/administrative_divisions       0.99      1.00      0.99      5768\n",
      "     /location/neighborhood/neighborhood_of       1.00      0.99      0.99      5181\n",
      "                /location/location/contains       1.00      1.00      1.00     26535\n",
      "                 /people/person/nationality       0.99      0.99      0.99      8095\n",
      "                 /people/person/place_lived       0.89      0.93      0.91      6872\n",
      "     /people/deceased_person/place_of_death       0.85      0.59      0.70      1853\n",
      "                   /business/person/company       1.00      0.99      0.99      5343\n",
      "                 /location/us_state/capital       0.96      1.00      0.98       631\n",
      "              /people/person/place_of_birth       0.78      0.52      0.62      2988\n",
      "                    /people/person/children       1.00      0.86      0.93       464\n",
      "                 /business/company/founders       0.90      0.92      0.91       782\n",
      "            /business/company/place_founded       0.97      0.91      0.94       461\n",
      "               /sports/sports_team/location       0.98      0.92      0.95       202\n",
      "                   /people/person/ethnicity       0.99      0.58      0.73       134\n",
      "  /people/ethnicity/geographic_distribution       1.00      0.96      0.98       507\n",
      "                    /people/person/religion       0.81      0.94      0.87       151\n",
      "       /business/company/major_shareholders       0.98      0.46      0.63       263\n",
      "                 /location/province/capital       0.00      0.00      0.00        31\n",
      "                 /location/br_state/capital       0.00      0.00      0.00         3\n",
      "                 /business/company/advisors       0.00      0.00      0.00        42\n",
      "      /film/film_location/featured_in_films       0.00      0.00      0.00        14\n",
      "         /film/film/featured_film_locations       0.00      0.00      0.00        14\n",
      "            /location/us_county/county_seat       1.00      0.66      0.79        93\n",
      "                      /time/event/locations       0.00      0.00      0.00         4\n",
      "    /people/deceased_person/place_of_burial       0.00      0.00      0.00        23\n",
      "   /people/place_of_interment/interred_here       0.00      0.00      0.00        23\n",
      "/business/company_advisor/companies_advised       0.00      0.00      0.00         2\n",
      "\n",
      "                                  micro avg       0.98      0.95      0.97     78926\n",
      "                                  macro avg       0.66      0.59      0.62     78926\n",
      "                               weighted avg       0.97      0.95      0.96     78926\n",
      "                                samples avg       0.96      0.96      0.96     78926\n",
      "\n"
     ]
    },
    {
     "output_type": "stream",
     "name": "stderr",
     "text": [
      "/usr/local/lib/python3.7/dist-packages/sklearn/metrics/_classification.py:1272: UndefinedMetricWarning: Precision and F-score are ill-defined and being set to 0.0 in labels with no predicted samples. Use `zero_division` parameter to control this behavior.\n",
      "  _warn_prf(average, modifier, msg_start, len(result))\n",
      "/usr/local/lib/python3.7/dist-packages/sklearn/metrics/_classification.py:1272: UndefinedMetricWarning: Precision and F-score are ill-defined and being set to 0.0 in samples with no predicted labels. Use `zero_division` parameter to control this behavior.\n",
      "  _warn_prf(average, modifier, msg_start, len(result))\n"
     ]
    }
   ]
  },
  {
   "cell_type": "markdown",
   "metadata": {
    "id": "e5Xrhqye44P4"
   },
   "source": [
    "####Validation Set"
   ]
  },
  {
   "cell_type": "code",
   "metadata": {
    "id": "65Nu4-ZZZtq1",
    "colab": {
     "base_uri": "https://localhost:8080/"
    },
    "outputId": "11a12a6f-c8fe-4893-e42b-d37c51ab8d07"
   },
   "source": [
    "preds_1, labels_1 = predict(model, dev_data_loader, device)\n",
    "y_pred, y_true = process_result(preds_1, labels_1, 0.5)\n",
    "print(classification_report(y_true, y_pred, labels=[i for i in range(29)], target_names=relations[0].tolist()))"
   ],
   "execution_count": 24,
   "outputs": [
    {
     "output_type": "stream",
     "name": "stdout",
     "text": [
      "                                             precision    recall  f1-score   support\n",
      "\n",
      "  /location/administrative_division/country       1.00      0.99      0.99       632\n",
      "                  /location/country/capital       0.99      1.00      0.99       738\n",
      " /location/country/administrative_divisions       0.98      0.99      0.98       632\n",
      "     /location/neighborhood/neighborhood_of       1.00      0.98      0.99       549\n",
      "                /location/location/contains       1.00      0.99      0.99      3063\n",
      "                 /people/person/nationality       0.99      0.99      0.99       935\n",
      "                 /people/person/place_lived       0.87      0.91      0.89       762\n",
      "     /people/deceased_person/place_of_death       0.80      0.59      0.68       191\n",
      "                   /business/person/company       1.00      0.98      0.99       560\n",
      "                 /location/us_state/capital       0.97      1.00      0.98        65\n",
      "              /people/person/place_of_birth       0.72      0.45      0.55       329\n",
      "                    /people/person/children       0.97      0.78      0.86        45\n",
      "                 /business/company/founders       0.92      0.82      0.87        84\n",
      "            /business/company/place_founded       1.00      0.90      0.95        39\n",
      "               /sports/sports_team/location       1.00      0.95      0.97        20\n",
      "                   /people/person/ethnicity       1.00      0.55      0.71        20\n",
      "  /people/ethnicity/geographic_distribution       1.00      1.00      1.00        38\n",
      "                    /people/person/religion       0.62      0.77      0.69        13\n",
      "       /business/company/major_shareholders       1.00      0.59      0.74        29\n",
      "                 /location/province/capital       0.00      0.00      0.00         3\n",
      "                 /location/br_state/capital       0.00      0.00      0.00         1\n",
      "                 /business/company/advisors       0.00      0.00      0.00         4\n",
      "      /film/film_location/featured_in_films       0.00      0.00      0.00         3\n",
      "         /film/film/featured_film_locations       0.00      0.00      0.00         3\n",
      "            /location/us_county/county_seat       1.00      0.29      0.44         7\n",
      "                      /time/event/locations       0.00      0.00      0.00         0\n",
      "    /people/deceased_person/place_of_burial       0.00      0.00      0.00         0\n",
      "   /people/place_of_interment/interred_here       0.00      0.00      0.00         0\n",
      "/business/company_advisor/companies_advised       0.00      0.00      0.00         0\n",
      "\n",
      "                                  micro avg       0.97      0.94      0.96      8765\n",
      "                                  macro avg       0.65      0.57      0.60      8765\n",
      "                               weighted avg       0.97      0.94      0.95      8765\n",
      "                                samples avg       0.95      0.95      0.95      8765\n",
      "\n"
     ]
    },
    {
     "output_type": "stream",
     "name": "stderr",
     "text": [
      "/usr/local/lib/python3.7/dist-packages/sklearn/metrics/_classification.py:1272: UndefinedMetricWarning: Precision and F-score are ill-defined and being set to 0.0 in labels with no predicted samples. Use `zero_division` parameter to control this behavior.\n",
      "  _warn_prf(average, modifier, msg_start, len(result))\n",
      "/usr/local/lib/python3.7/dist-packages/sklearn/metrics/_classification.py:1272: UndefinedMetricWarning: Recall and F-score are ill-defined and being set to 0.0 in labels with no true samples. Use `zero_division` parameter to control this behavior.\n",
      "  _warn_prf(average, modifier, msg_start, len(result))\n",
      "/usr/local/lib/python3.7/dist-packages/sklearn/metrics/_classification.py:1272: UndefinedMetricWarning: Precision and F-score are ill-defined and being set to 0.0 in samples with no predicted labels. Use `zero_division` parameter to control this behavior.\n",
      "  _warn_prf(average, modifier, msg_start, len(result))\n"
     ]
    }
   ]
  },
  {
   "cell_type": "markdown",
   "metadata": {
    "id": "8D3kHPiY46rv"
   },
   "source": [
    "#### Testing Set"
   ]
  },
  {
   "cell_type": "code",
   "metadata": {
    "id": "d4WvvAdhZvhH",
    "colab": {
     "base_uri": "https://localhost:8080/"
    },
    "outputId": "0875ff1c-34c8-43b7-f2f5-f1a82db6c535"
   },
   "source": [
    "preds_2, labels_2 = predict(model, test_data_loader, device)\n",
    "y_pred, y_true = process_result(preds_2, labels_2, 0.5)\n",
    "print(classification_report(y_true, y_pred, labels=[i for i in range(29)], target_names=relations[0].tolist()))"
   ],
   "execution_count": 25,
   "outputs": [
    {
     "output_type": "stream",
     "name": "stdout",
     "text": [
      "                                             precision    recall  f1-score   support\n",
      "\n",
      "  /location/administrative_division/country       0.99      0.97      0.98       379\n",
      "                  /location/country/capital       0.99      1.00      0.99       485\n",
      " /location/country/administrative_divisions       0.94      0.97      0.95       379\n",
      "     /location/neighborhood/neighborhood_of       1.00      0.97      0.98        65\n",
      "                /location/location/contains       1.00      0.74      0.85      2515\n",
      "                 /people/person/nationality       0.99      1.00      0.99       668\n",
      "                 /people/person/place_lived       0.90      0.95      0.92       427\n",
      "     /people/deceased_person/place_of_death       0.55      0.29      0.38        62\n",
      "                   /business/person/company       1.00      0.98      0.99       285\n",
      "                 /location/us_state/capital       0.00      0.00      0.00        37\n",
      "              /people/person/place_of_birth       0.71      0.41      0.52       146\n",
      "                    /people/person/children       1.00      0.81      0.89        26\n",
      "                 /business/company/founders       0.68      0.81      0.74        90\n",
      "            /business/company/place_founded       0.94      0.80      0.86        20\n",
      "               /sports/sports_team/location       1.00      1.00      1.00        10\n",
      "                   /people/person/ethnicity       0.91      0.83      0.87        12\n",
      "  /people/ethnicity/geographic_distribution       1.00      0.98      0.99       123\n",
      "                    /people/person/religion       0.50      1.00      0.67         5\n",
      "       /business/company/major_shareholders       1.00      0.48      0.65        44\n",
      "                 /location/province/capital       0.00      0.00      0.00        11\n",
      "                 /location/br_state/capital       0.00      0.00      0.00         2\n",
      "                 /business/company/advisors       0.00      0.00      0.00         8\n",
      "      /film/film_location/featured_in_films       0.00      0.00      0.00         2\n",
      "         /film/film/featured_film_locations       0.00      0.00      0.00         2\n",
      "            /location/us_county/county_seat       0.00      0.00      0.00        20\n",
      "                      /time/event/locations       0.00      0.00      0.00         4\n",
      "    /people/deceased_person/place_of_burial       0.00      0.00      0.00         8\n",
      "   /people/place_of_interment/interred_here       0.00      0.00      0.00         8\n",
      "/business/company_advisor/companies_advised       0.00      0.00      0.00         8\n",
      "\n",
      "                                  micro avg       0.97      0.83      0.89      5851\n",
      "                                  macro avg       0.56      0.52      0.53      5851\n",
      "                               weighted avg       0.95      0.83      0.88      5851\n",
      "                                samples avg       0.93      0.87      0.89      5851\n",
      "\n"
     ]
    },
    {
     "output_type": "stream",
     "name": "stderr",
     "text": [
      "/usr/local/lib/python3.7/dist-packages/sklearn/metrics/_classification.py:1272: UndefinedMetricWarning: Precision and F-score are ill-defined and being set to 0.0 in labels with no predicted samples. Use `zero_division` parameter to control this behavior.\n",
      "  _warn_prf(average, modifier, msg_start, len(result))\n",
      "/usr/local/lib/python3.7/dist-packages/sklearn/metrics/_classification.py:1272: UndefinedMetricWarning: Precision and F-score are ill-defined and being set to 0.0 in samples with no predicted labels. Use `zero_division` parameter to control this behavior.\n",
      "  _warn_prf(average, modifier, msg_start, len(result))\n"
     ]
    }
   ]
  },
  {
   "cell_type": "markdown",
   "metadata": {
    "id": "x2763GzK5Bd9"
   },
   "source": [
    "### Threshold tuning"
   ]
  },
  {
   "cell_type": "code",
   "metadata": {
    "id": "G2zUvm_xnZbJ"
   },
   "source": [
    "f_scores = []\n",
    "for th in range(1, 10):\n",
    "  y_pred, y_true = process_result(preds, labels, th/10)\n",
    "  precision,recall,fscore,support=score(y_true,y_pred,average='micro', labels=[i for i in range(29)])\n",
    "  f_scores.append(fscore)"
   ],
   "execution_count": 22,
   "outputs": []
  },
  {
   "cell_type": "code",
   "metadata": {
    "colab": {
     "base_uri": "https://localhost:8080/",
     "height": 279
    },
    "id": "HAZOcXUHxCBG",
    "outputId": "b9b27747-0eda-4a3b-f490-ae4cb059926a"
   },
   "source": [
    "xaxis = np.array([i for i in range(1, 10)]) * 0.1\n",
    "yaxis = np.array(f_scores)\n",
    "plt.plot(xaxis, yaxis)\n",
    "plt.xlabel(\"Threshold value\")\n",
    "plt.ylabel(\"Train set micro F1 score\")\n",
    "plt.show()"
   ],
   "execution_count": 23,
   "outputs": [
    {
     "output_type": "display_data",
     "data": {
      "image/png": "[encoded data removed]",
      "text/plain": [
       "<Figure size 432x288 with 1 Axes>"
      ]
     },
     "metadata": {
      "needs_background": "light"
     }
    }
   ]
  }
 ]
}